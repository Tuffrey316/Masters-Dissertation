{
 "cells": [
  {
   "cell_type": "code",
   "execution_count": null,
   "id": "e7344abe-8bb2-4633-b401-3a918190c1ab",
   "metadata": {},
   "outputs": [],
   "source": []
  },
  {
   "cell_type": "code",
   "execution_count": 6,
   "id": "61e78b0d",
   "metadata": {},
   "outputs": [
    {
     "name": "stderr",
     "output_type": "stream",
     "text": [
      "Request for URL http://ergast.com/api/f1/2023/1/results.json failed; using cached response\n",
      "Traceback (most recent call last):\n",
      "  File \"C:\\Users\\tuffe\\anaconda3\\Lib\\site-packages\\requests_cache\\session.py\", line 290, in _resend\n",
      "    response.raise_for_status()\n",
      "  File \"C:\\Users\\tuffe\\anaconda3\\Lib\\site-packages\\requests\\models.py\", line 1021, in raise_for_status\n",
      "    raise HTTPError(http_error_msg, response=self)\n",
      "requests.exceptions.HTTPError: 503 Server Error: Backend fetch failed for url: http://ergast.com/api/f1/2023/1/results.json\n"
     ]
    },
    {
     "name": "stdout",
     "output_type": "stream",
     "text": [
      "Time to Load Data: 0:01:04.923569\n",
      "2023:Sakhir:FP1\n"
     ]
    },
    {
     "name": "stderr",
     "output_type": "stream",
     "text": [
      "Request for URL http://ergast.com/api/f1/2023/1/results.json failed; using cached response\n",
      "Traceback (most recent call last):\n",
      "  File \"C:\\Users\\tuffe\\anaconda3\\Lib\\site-packages\\requests_cache\\session.py\", line 290, in _resend\n",
      "    response.raise_for_status()\n",
      "  File \"C:\\Users\\tuffe\\anaconda3\\Lib\\site-packages\\requests\\models.py\", line 1021, in raise_for_status\n",
      "    raise HTTPError(http_error_msg, response=self)\n",
      "requests.exceptions.HTTPError: 503 Server Error: Backend fetch failed for url: http://ergast.com/api/f1/2023/1/results.json\n"
     ]
    },
    {
     "name": "stdout",
     "output_type": "stream",
     "text": [
      "Time to Load Data: 0:05:36.813176\n",
      "2023:Sakhir:FP2\n",
      "Time to Load Data: 0:11:20.203786\n",
      "2023:Sakhir:FP3\n"
     ]
    },
    {
     "name": "stderr",
     "output_type": "stream",
     "text": [
      "Request for URL http://ergast.com/api/f1/2023/1/qualifying.json failed; using cached response\n",
      "Traceback (most recent call last):\n",
      "  File \"C:\\Users\\tuffe\\anaconda3\\Lib\\site-packages\\requests_cache\\session.py\", line 290, in _resend\n",
      "    response.raise_for_status()\n",
      "  File \"C:\\Users\\tuffe\\anaconda3\\Lib\\site-packages\\requests\\models.py\", line 1021, in raise_for_status\n",
      "    raise HTTPError(http_error_msg, response=self)\n",
      "requests.exceptions.HTTPError: 503 Server Error: Backend fetch failed for url: http://ergast.com/api/f1/2023/1/qualifying.json\n"
     ]
    },
    {
     "name": "stdout",
     "output_type": "stream",
     "text": [
      "Time to Load Data: 0:16:54.340472\n",
      "2023:Sakhir:Q\n"
     ]
    },
    {
     "name": "stderr",
     "output_type": "stream",
     "text": [
      "Request for URL http://ergast.com/api/f1/2023/1/results.json failed; using cached response\n",
      "Traceback (most recent call last):\n",
      "  File \"C:\\Users\\tuffe\\anaconda3\\Lib\\site-packages\\requests_cache\\session.py\", line 290, in _resend\n",
      "    response.raise_for_status()\n",
      "  File \"C:\\Users\\tuffe\\anaconda3\\Lib\\site-packages\\requests\\models.py\", line 1021, in raise_for_status\n",
      "    raise HTTPError(http_error_msg, response=self)\n",
      "requests.exceptions.HTTPError: 503 Server Error: Backend fetch failed for url: http://ergast.com/api/f1/2023/1/results.json\n"
     ]
    },
    {
     "name": "stdout",
     "output_type": "stream",
     "text": [
      "Time to Load Data: 0:22:57.697637\n",
      "2023:Sakhir:R\n"
     ]
    },
    {
     "name": "stderr",
     "output_type": "stream",
     "text": [
      "Request for URL http://ergast.com/api/f1/2023/2/results.json failed; using cached response\n",
      "Traceback (most recent call last):\n",
      "  File \"C:\\Users\\tuffe\\anaconda3\\Lib\\site-packages\\requests_cache\\session.py\", line 290, in _resend\n",
      "    response.raise_for_status()\n",
      "  File \"C:\\Users\\tuffe\\anaconda3\\Lib\\site-packages\\requests\\models.py\", line 1021, in raise_for_status\n",
      "    raise HTTPError(http_error_msg, response=self)\n",
      "requests.exceptions.HTTPError: 503 Server Error: Backend fetch failed for url: http://ergast.com/api/f1/2023/2/results.json\n"
     ]
    },
    {
     "name": "stdout",
     "output_type": "stream",
     "text": [
      "Time to Load Data: 0:01:03.896472\n",
      "2023:Jeddah:FP1\n",
      "Time to Load Data: 0:10:27.399376\n",
      "2023:Jeddah:FP2\n"
     ]
    },
    {
     "name": "stderr",
     "output_type": "stream",
     "text": [
      "Request for URL http://ergast.com/api/f1/2023/2/results.json failed; using cached response\n",
      "Traceback (most recent call last):\n",
      "  File \"C:\\Users\\tuffe\\anaconda3\\Lib\\site-packages\\requests_cache\\session.py\", line 290, in _resend\n",
      "    response.raise_for_status()\n",
      "  File \"C:\\Users\\tuffe\\anaconda3\\Lib\\site-packages\\requests\\models.py\", line 1021, in raise_for_status\n",
      "    raise HTTPError(http_error_msg, response=self)\n",
      "requests.exceptions.HTTPError: 503 Server Error: Backend fetch failed for url: http://ergast.com/api/f1/2023/2/results.json\n"
     ]
    },
    {
     "name": "stdout",
     "output_type": "stream",
     "text": [
      "Time to Load Data: 0:19:01.939625\n",
      "2023:Jeddah:FP3\n",
      "Time to Load Data: 0:27:45.127959\n",
      "2023:Jeddah:Q\n"
     ]
    },
    {
     "name": "stderr",
     "output_type": "stream",
     "text": [
      "Request for URL http://ergast.com/api/f1/2023/2/results.json failed; using cached response\n",
      "Traceback (most recent call last):\n",
      "  File \"C:\\Users\\tuffe\\anaconda3\\Lib\\site-packages\\requests_cache\\session.py\", line 290, in _resend\n",
      "    response.raise_for_status()\n",
      "  File \"C:\\Users\\tuffe\\anaconda3\\Lib\\site-packages\\requests\\models.py\", line 1021, in raise_for_status\n",
      "    raise HTTPError(http_error_msg, response=self)\n",
      "requests.exceptions.HTTPError: 503 Server Error: Backend fetch failed for url: http://ergast.com/api/f1/2023/2/results.json\n"
     ]
    },
    {
     "name": "stdout",
     "output_type": "stream",
     "text": [
      "Time to Load Data: 0:37:21.068786\n",
      "2023:Jeddah:R\n"
     ]
    },
    {
     "name": "stderr",
     "output_type": "stream",
     "text": [
      "Request for URL http://ergast.com/api/f1/2023/3/results.json failed; using cached response\n",
      "Traceback (most recent call last):\n",
      "  File \"C:\\Users\\tuffe\\anaconda3\\Lib\\site-packages\\requests_cache\\session.py\", line 290, in _resend\n",
      "    response.raise_for_status()\n",
      "  File \"C:\\Users\\tuffe\\anaconda3\\Lib\\site-packages\\requests\\models.py\", line 1021, in raise_for_status\n",
      "    raise HTTPError(http_error_msg, response=self)\n",
      "requests.exceptions.HTTPError: 503 Server Error: Backend fetch failed for url: http://ergast.com/api/f1/2023/3/results.json\n"
     ]
    },
    {
     "name": "stdout",
     "output_type": "stream",
     "text": [
      "Time to Load Data: 0:01:05.271094\n",
      "2023:Melbourne:FP1\n",
      "Time to Load Data: 0:06:48.518102\n",
      "2023:Melbourne:FP2\n",
      "Time to Load Data: 0:10:56.383464\n",
      "2023:Melbourne:FP3\n"
     ]
    },
    {
     "name": "stderr",
     "output_type": "stream",
     "text": [
      "Request for URL http://ergast.com/api/f1/2023/3/qualifying.json failed; using cached response\n",
      "Traceback (most recent call last):\n",
      "  File \"C:\\Users\\tuffe\\anaconda3\\Lib\\site-packages\\requests_cache\\session.py\", line 290, in _resend\n",
      "    response.raise_for_status()\n",
      "  File \"C:\\Users\\tuffe\\anaconda3\\Lib\\site-packages\\requests\\models.py\", line 1021, in raise_for_status\n",
      "    raise HTTPError(http_error_msg, response=self)\n",
      "requests.exceptions.HTTPError: 503 Server Error: Backend fetch failed for url: http://ergast.com/api/f1/2023/3/qualifying.json\n"
     ]
    },
    {
     "name": "stdout",
     "output_type": "stream",
     "text": [
      "Time to Load Data: 0:16:29.634225\n",
      "2023:Melbourne:Q\n"
     ]
    },
    {
     "name": "stderr",
     "output_type": "stream",
     "text": [
      "C:\\Users\\tuffe\\anaconda3\\Lib\\site-packages\\fastf1\\core.py:3063: FutureWarning: In the future, `None` will be returned instead of an empty `Lap` object when there are no laps that satisfy the definition for fastest lap.\n",
      "  warnings.warn((\"In the future, `None` will be returned instead of \"\n",
      "Request for URL http://ergast.com/api/f1/2023/3/results.json failed; using cached response\n",
      "Traceback (most recent call last):\n",
      "  File \"C:\\Users\\tuffe\\anaconda3\\Lib\\site-packages\\requests_cache\\session.py\", line 290, in _resend\n",
      "    response.raise_for_status()\n",
      "  File \"C:\\Users\\tuffe\\anaconda3\\Lib\\site-packages\\requests\\models.py\", line 1021, in raise_for_status\n",
      "    raise HTTPError(http_error_msg, response=self)\n",
      "requests.exceptions.HTTPError: 503 Server Error: Backend fetch failed for url: http://ergast.com/api/f1/2023/3/results.json\n",
      "Request for URL http://ergast.com/api/f1/2023/3/laps/1.json failed; using cached response\n",
      "Traceback (most recent call last):\n",
      "  File \"C:\\Users\\tuffe\\anaconda3\\Lib\\site-packages\\requests_cache\\session.py\", line 290, in _resend\n",
      "    response.raise_for_status()\n",
      "  File \"C:\\Users\\tuffe\\anaconda3\\Lib\\site-packages\\requests\\models.py\", line 1021, in raise_for_status\n",
      "    raise HTTPError(http_error_msg, response=self)\n",
      "requests.exceptions.HTTPError: 503 Server Error: Backend fetch failed for url: http://ergast.com/api/f1/2023/3/laps/1.json\n"
     ]
    },
    {
     "name": "stdout",
     "output_type": "stream",
     "text": [
      "Time to Load Data: 0:22:10.603789\n",
      "2023:Melbourne:R\n"
     ]
    },
    {
     "name": "stderr",
     "output_type": "stream",
     "text": [
      "C:\\Users\\tuffe\\anaconda3\\Lib\\site-packages\\fastf1\\core.py:3063: FutureWarning: In the future, `None` will be returned instead of an empty `Lap` object when there are no laps that satisfy the definition for fastest lap.\n",
      "  warnings.warn((\"In the future, `None` will be returned instead of \"\n",
      "Request for URL http://ergast.com/api/f1/2023/4/results.json failed; using cached response\n",
      "Traceback (most recent call last):\n",
      "  File \"C:\\Users\\tuffe\\anaconda3\\Lib\\site-packages\\requests_cache\\session.py\", line 290, in _resend\n",
      "    response.raise_for_status()\n",
      "  File \"C:\\Users\\tuffe\\anaconda3\\Lib\\site-packages\\requests\\models.py\", line 1021, in raise_for_status\n",
      "    raise HTTPError(http_error_msg, response=self)\n",
      "requests.exceptions.HTTPError: 504 Server Error: Gateway Timeout for url: http://ergast.com/api/f1/2023/4/results.json\n"
     ]
    },
    {
     "name": "stdout",
     "output_type": "stream",
     "text": [
      "Time to Load Data: 0:01:04.883451\n",
      "2023:Baku:FP1\n"
     ]
    },
    {
     "name": "stderr",
     "output_type": "stream",
     "text": [
      "Request for URL http://ergast.com/api/f1/2023/4/qualifying.json failed; using cached response\n",
      "Traceback (most recent call last):\n",
      "  File \"C:\\Users\\tuffe\\anaconda3\\Lib\\site-packages\\requests_cache\\session.py\", line 290, in _resend\n",
      "    response.raise_for_status()\n",
      "  File \"C:\\Users\\tuffe\\anaconda3\\Lib\\site-packages\\requests\\models.py\", line 1021, in raise_for_status\n",
      "    raise HTTPError(http_error_msg, response=self)\n",
      "requests.exceptions.HTTPError: 503 Server Error: Backend fetch failed for url: http://ergast.com/api/f1/2023/4/qualifying.json\n"
     ]
    },
    {
     "name": "stdout",
     "output_type": "stream",
     "text": [
      "Time to Load Data: 0:06:04.454325\n",
      "2023:Baku:Q\n",
      "Time to Load Data: 0:12:09.940480\n",
      "2023:Baku:SS\n",
      "Time to Load Data: 0:17:48.706868\n",
      "2023:Baku:S\n"
     ]
    },
    {
     "name": "stderr",
     "output_type": "stream",
     "text": [
      "C:\\Users\\tuffe\\anaconda3\\Lib\\site-packages\\fastf1\\core.py:3063: FutureWarning: In the future, `None` will be returned instead of an empty `Lap` object when there are no laps that satisfy the definition for fastest lap.\n",
      "  warnings.warn((\"In the future, `None` will be returned instead of \"\n",
      "Request for URL http://ergast.com/api/f1/2023/4/results.json failed; using cached response\n",
      "Traceback (most recent call last):\n",
      "  File \"C:\\Users\\tuffe\\anaconda3\\Lib\\site-packages\\requests_cache\\session.py\", line 290, in _resend\n",
      "    response.raise_for_status()\n",
      "  File \"C:\\Users\\tuffe\\anaconda3\\Lib\\site-packages\\requests\\models.py\", line 1021, in raise_for_status\n",
      "    raise HTTPError(http_error_msg, response=self)\n",
      "requests.exceptions.HTTPError: 503 Server Error: Backend fetch failed for url: http://ergast.com/api/f1/2023/4/results.json\n"
     ]
    },
    {
     "name": "stdout",
     "output_type": "stream",
     "text": [
      "Time to Load Data: 0:25:21.312837\n",
      "2023:Baku:R\n"
     ]
    },
    {
     "name": "stderr",
     "output_type": "stream",
     "text": [
      "Request for URL http://ergast.com/api/f1/2023/5/results.json failed; using cached response\n",
      "Traceback (most recent call last):\n",
      "  File \"C:\\Users\\tuffe\\anaconda3\\Lib\\site-packages\\requests_cache\\session.py\", line 290, in _resend\n",
      "    response.raise_for_status()\n",
      "  File \"C:\\Users\\tuffe\\anaconda3\\Lib\\site-packages\\requests\\models.py\", line 1021, in raise_for_status\n",
      "    raise HTTPError(http_error_msg, response=self)\n",
      "requests.exceptions.HTTPError: 503 Server Error: Backend fetch failed for url: http://ergast.com/api/f1/2023/5/results.json\n"
     ]
    },
    {
     "name": "stdout",
     "output_type": "stream",
     "text": [
      "Time to Load Data: 0:01:03.987973\n",
      "2023:Miami:FP1\n",
      "Time to Load Data: 0:06:41.778834\n",
      "2023:Miami:FP2\n",
      "Time to Load Data: 0:11:27.697229\n",
      "2023:Miami:FP3\n"
     ]
    },
    {
     "name": "stderr",
     "output_type": "stream",
     "text": [
      "Request for URL http://ergast.com/api/f1/2023/5/qualifying.json failed; using cached response\n",
      "Traceback (most recent call last):\n",
      "  File \"C:\\Users\\tuffe\\anaconda3\\Lib\\site-packages\\requests_cache\\session.py\", line 290, in _resend\n",
      "    response.raise_for_status()\n",
      "  File \"C:\\Users\\tuffe\\anaconda3\\Lib\\site-packages\\requests\\models.py\", line 1021, in raise_for_status\n",
      "    raise HTTPError(http_error_msg, response=self)\n",
      "requests.exceptions.HTTPError: 503 Server Error: Backend fetch failed for url: http://ergast.com/api/f1/2023/5/qualifying.json\n"
     ]
    },
    {
     "name": "stdout",
     "output_type": "stream",
     "text": [
      "Time to Load Data: 0:18:20.650777\n",
      "2023:Miami:Q\n"
     ]
    },
    {
     "name": "stderr",
     "output_type": "stream",
     "text": [
      "Request for URL http://ergast.com/api/f1/2023/5/results.json failed; using cached response\n",
      "Traceback (most recent call last):\n",
      "  File \"C:\\Users\\tuffe\\anaconda3\\Lib\\site-packages\\requests_cache\\session.py\", line 290, in _resend\n",
      "    response.raise_for_status()\n",
      "  File \"C:\\Users\\tuffe\\anaconda3\\Lib\\site-packages\\requests\\models.py\", line 1021, in raise_for_status\n",
      "    raise HTTPError(http_error_msg, response=self)\n",
      "requests.exceptions.HTTPError: 504 Server Error: Gateway Timeout for url: http://ergast.com/api/f1/2023/5/results.json\n"
     ]
    },
    {
     "name": "stdout",
     "output_type": "stream",
     "text": [
      "Time to Load Data: 0:26:01.975705\n",
      "2023:Miami:R\n"
     ]
    },
    {
     "name": "stderr",
     "output_type": "stream",
     "text": [
      "Request for URL http://ergast.com/api/f1/2023/6/results.json failed; using cached response\n",
      "Traceback (most recent call last):\n",
      "  File \"C:\\Users\\tuffe\\anaconda3\\Lib\\site-packages\\requests_cache\\session.py\", line 290, in _resend\n",
      "    response.raise_for_status()\n",
      "  File \"C:\\Users\\tuffe\\anaconda3\\Lib\\site-packages\\requests\\models.py\", line 1021, in raise_for_status\n",
      "    raise HTTPError(http_error_msg, response=self)\n",
      "requests.exceptions.HTTPError: 503 Server Error: Backend fetch failed for url: http://ergast.com/api/f1/2023/6/results.json\n"
     ]
    },
    {
     "name": "stdout",
     "output_type": "stream",
     "text": [
      "Time to Load Data: 0:00:08.201613\n",
      "2023:Monaco:FP1\n"
     ]
    },
    {
     "name": "stderr",
     "output_type": "stream",
     "text": [
      "Request for URL http://ergast.com/api/f1/2023/6/results.json failed; using cached response\n",
      "Traceback (most recent call last):\n",
      "  File \"C:\\Users\\tuffe\\anaconda3\\Lib\\site-packages\\requests_cache\\session.py\", line 290, in _resend\n",
      "    response.raise_for_status()\n",
      "  File \"C:\\Users\\tuffe\\anaconda3\\Lib\\site-packages\\requests\\models.py\", line 1021, in raise_for_status\n",
      "    raise HTTPError(http_error_msg, response=self)\n",
      "requests.exceptions.HTTPError: 503 Server Error: Backend fetch failed for url: http://ergast.com/api/f1/2023/6/results.json\n"
     ]
    },
    {
     "name": "stdout",
     "output_type": "stream",
     "text": [
      "Time to Load Data: 0:07:08.242690\n",
      "2023:Monaco:FP2\n",
      "Time to Load Data: 0:14:04.307948\n",
      "2023:Monaco:FP3\n",
      "Time to Load Data: 0:20:55.343184\n",
      "2023:Monaco:Q\n"
     ]
    },
    {
     "name": "stderr",
     "output_type": "stream",
     "text": [
      "Request for URL http://ergast.com/api/f1/2023/6/results.json failed; using cached response\n",
      "Traceback (most recent call last):\n",
      "  File \"C:\\Users\\tuffe\\anaconda3\\Lib\\site-packages\\requests_cache\\session.py\", line 290, in _resend\n",
      "    response.raise_for_status()\n",
      "  File \"C:\\Users\\tuffe\\anaconda3\\Lib\\site-packages\\requests\\models.py\", line 1021, in raise_for_status\n",
      "    raise HTTPError(http_error_msg, response=self)\n",
      "requests.exceptions.HTTPError: 503 Server Error: Backend fetch failed for url: http://ergast.com/api/f1/2023/6/results.json\n",
      "Request for URL http://ergast.com/api/f1/2023/6/laps/1.json failed; using cached response\n",
      "Traceback (most recent call last):\n",
      "  File \"C:\\Users\\tuffe\\anaconda3\\Lib\\site-packages\\requests_cache\\session.py\", line 290, in _resend\n",
      "    response.raise_for_status()\n",
      "  File \"C:\\Users\\tuffe\\anaconda3\\Lib\\site-packages\\requests\\models.py\", line 1021, in raise_for_status\n",
      "    raise HTTPError(http_error_msg, response=self)\n",
      "requests.exceptions.HTTPError: 503 Server Error: Backend fetch failed for url: http://ergast.com/api/f1/2023/6/laps/1.json\n"
     ]
    },
    {
     "name": "stdout",
     "output_type": "stream",
     "text": [
      "Time to Load Data: 0:27:12.389874\n",
      "2023:Monaco:R\n"
     ]
    },
    {
     "name": "stderr",
     "output_type": "stream",
     "text": [
      "Request for URL http://ergast.com/api/f1/2023/7/results.json failed; using cached response\n",
      "Traceback (most recent call last):\n",
      "  File \"C:\\Users\\tuffe\\anaconda3\\Lib\\site-packages\\requests_cache\\session.py\", line 290, in _resend\n",
      "    response.raise_for_status()\n",
      "  File \"C:\\Users\\tuffe\\anaconda3\\Lib\\site-packages\\requests\\models.py\", line 1021, in raise_for_status\n",
      "    raise HTTPError(http_error_msg, response=self)\n",
      "requests.exceptions.HTTPError: 503 Server Error: Backend fetch failed for url: http://ergast.com/api/f1/2023/7/results.json\n"
     ]
    },
    {
     "name": "stdout",
     "output_type": "stream",
     "text": [
      "Time to Load Data: 0:01:04.153749\n",
      "2023:Barcelona:FP1\n",
      "Time to Load Data: 0:06:07.961606\n",
      "2023:Barcelona:FP2\n",
      "Time to Load Data: 0:10:24.513142\n",
      "2023:Barcelona:FP3\n"
     ]
    },
    {
     "name": "stderr",
     "output_type": "stream",
     "text": [
      "Request for URL http://ergast.com/api/f1/2023/7/qualifying.json failed; using cached response\n",
      "Traceback (most recent call last):\n",
      "  File \"C:\\Users\\tuffe\\anaconda3\\Lib\\site-packages\\requests_cache\\session.py\", line 290, in _resend\n",
      "    response.raise_for_status()\n",
      "  File \"C:\\Users\\tuffe\\anaconda3\\Lib\\site-packages\\requests\\models.py\", line 1021, in raise_for_status\n",
      "    raise HTTPError(http_error_msg, response=self)\n",
      "requests.exceptions.HTTPError: 503 Server Error: Backend fetch failed for url: http://ergast.com/api/f1/2023/7/qualifying.json\n"
     ]
    },
    {
     "name": "stdout",
     "output_type": "stream",
     "text": [
      "Time to Load Data: 0:16:08.122201\n",
      "2023:Barcelona:Q\n"
     ]
    },
    {
     "name": "stderr",
     "output_type": "stream",
     "text": [
      "Request for URL http://ergast.com/api/f1/2023/7/results.json failed; using cached response\n",
      "Traceback (most recent call last):\n",
      "  File \"C:\\Users\\tuffe\\anaconda3\\Lib\\site-packages\\requests_cache\\session.py\", line 290, in _resend\n",
      "    response.raise_for_status()\n",
      "  File \"C:\\Users\\tuffe\\anaconda3\\Lib\\site-packages\\requests\\models.py\", line 1021, in raise_for_status\n",
      "    raise HTTPError(http_error_msg, response=self)\n",
      "requests.exceptions.HTTPError: 503 Server Error: Backend fetch failed for url: http://ergast.com/api/f1/2023/7/results.json\n"
     ]
    },
    {
     "name": "stdout",
     "output_type": "stream",
     "text": [
      "Time to Load Data: 0:21:24.313925\n",
      "2023:Barcelona:R\n"
     ]
    },
    {
     "name": "stderr",
     "output_type": "stream",
     "text": [
      "Request for URL http://ergast.com/api/f1/2023/8/results.json failed; using cached response\n",
      "Traceback (most recent call last):\n",
      "  File \"C:\\Users\\tuffe\\anaconda3\\Lib\\site-packages\\requests_cache\\session.py\", line 290, in _resend\n",
      "    response.raise_for_status()\n",
      "  File \"C:\\Users\\tuffe\\anaconda3\\Lib\\site-packages\\requests\\models.py\", line 1021, in raise_for_status\n",
      "    raise HTTPError(http_error_msg, response=self)\n",
      "requests.exceptions.HTTPError: 503 Server Error: Backend fetch failed for url: http://ergast.com/api/f1/2023/8/results.json\n"
     ]
    },
    {
     "name": "stdout",
     "output_type": "stream",
     "text": [
      "Time to Load Data: 0:01:04.807950\n",
      "2023:Montréal:FP1\n"
     ]
    },
    {
     "name": "stderr",
     "output_type": "stream",
     "text": [
      "C:\\Users\\tuffe\\anaconda3\\Lib\\site-packages\\fastf1\\core.py:3063: FutureWarning: In the future, `None` will be returned instead of an empty `Lap` object when there are no laps that satisfy the definition for fastest lap.\n",
      "  warnings.warn((\"In the future, `None` will be returned instead of \"\n",
      "C:\\Users\\tuffe\\anaconda3\\Lib\\site-packages\\fastf1\\core.py:3063: FutureWarning: In the future, `None` will be returned instead of an empty `Lap` object when there are no laps that satisfy the definition for fastest lap.\n",
      "  warnings.warn((\"In the future, `None` will be returned instead of \"\n",
      "C:\\Users\\tuffe\\anaconda3\\Lib\\site-packages\\fastf1\\core.py:3063: FutureWarning: In the future, `None` will be returned instead of an empty `Lap` object when there are no laps that satisfy the definition for fastest lap.\n",
      "  warnings.warn((\"In the future, `None` will be returned instead of \"\n",
      "C:\\Users\\tuffe\\anaconda3\\Lib\\site-packages\\fastf1\\core.py:3063: FutureWarning: In the future, `None` will be returned instead of an empty `Lap` object when there are no laps that satisfy the definition for fastest lap.\n",
      "  warnings.warn((\"In the future, `None` will be returned instead of \"\n",
      "Request for URL http://ergast.com/api/f1/2023/8/results.json failed; using cached response\n",
      "Traceback (most recent call last):\n",
      "  File \"C:\\Users\\tuffe\\anaconda3\\Lib\\site-packages\\requests_cache\\session.py\", line 290, in _resend\n",
      "    response.raise_for_status()\n",
      "  File \"C:\\Users\\tuffe\\anaconda3\\Lib\\site-packages\\requests\\models.py\", line 1021, in raise_for_status\n",
      "    raise HTTPError(http_error_msg, response=self)\n",
      "requests.exceptions.HTTPError: 503 Server Error: Backend fetch failed for url: http://ergast.com/api/f1/2023/8/results.json\n"
     ]
    },
    {
     "name": "stdout",
     "output_type": "stream",
     "text": [
      "Time to Load Data: 0:04:23.951507\n",
      "2023:Montréal:FP2\n",
      "Time to Load Data: 0:08:52.061943\n",
      "2023:Montréal:FP3\n"
     ]
    },
    {
     "name": "stderr",
     "output_type": "stream",
     "text": [
      "Request for URL http://ergast.com/api/f1/2023/8/qualifying.json failed; using cached response\n",
      "Traceback (most recent call last):\n",
      "  File \"C:\\Users\\tuffe\\anaconda3\\Lib\\site-packages\\requests_cache\\session.py\", line 290, in _resend\n",
      "    response.raise_for_status()\n",
      "  File \"C:\\Users\\tuffe\\anaconda3\\Lib\\site-packages\\requests\\models.py\", line 1021, in raise_for_status\n",
      "    raise HTTPError(http_error_msg, response=self)\n",
      "requests.exceptions.HTTPError: 503 Server Error: Backend fetch failed for url: http://ergast.com/api/f1/2023/8/qualifying.json\n"
     ]
    },
    {
     "name": "stdout",
     "output_type": "stream",
     "text": [
      "Time to Load Data: 0:13:09.839515\n",
      "2023:Montréal:Q\n"
     ]
    },
    {
     "name": "stderr",
     "output_type": "stream",
     "text": [
      "Request for URL http://ergast.com/api/f1/2023/8/results.json failed; using cached response\n",
      "Traceback (most recent call last):\n",
      "  File \"C:\\Users\\tuffe\\anaconda3\\Lib\\site-packages\\requests_cache\\session.py\", line 290, in _resend\n",
      "    response.raise_for_status()\n",
      "  File \"C:\\Users\\tuffe\\anaconda3\\Lib\\site-packages\\requests\\models.py\", line 1021, in raise_for_status\n",
      "    raise HTTPError(http_error_msg, response=self)\n",
      "requests.exceptions.HTTPError: 503 Server Error: Backend fetch failed for url: http://ergast.com/api/f1/2023/8/results.json\n"
     ]
    },
    {
     "name": "stdout",
     "output_type": "stream",
     "text": [
      "Time to Load Data: 0:19:02.653065\n",
      "2023:Montréal:R\n",
      "Session:2023:Spielberg:FP1 Not Loaded due to an error with the API\n",
      "Time to Load Data: 0:01:29.905389\n",
      "2023:Spielberg:Q\n",
      "Time to Load Data: 0:04:12.916519\n",
      "2023:Spielberg:SS\n",
      "Time to Load Data: 0:07:54.345898\n",
      "2023:Spielberg:S\n"
     ]
    },
    {
     "name": "stderr",
     "output_type": "stream",
     "text": [
      "Request for URL http://ergast.com/api/f1/2023/9/results.json failed; using cached response\n",
      "Traceback (most recent call last):\n",
      "  File \"C:\\Users\\tuffe\\anaconda3\\Lib\\site-packages\\requests_cache\\session.py\", line 290, in _resend\n",
      "    response.raise_for_status()\n",
      "  File \"C:\\Users\\tuffe\\anaconda3\\Lib\\site-packages\\requests\\models.py\", line 1021, in raise_for_status\n",
      "    raise HTTPError(http_error_msg, response=self)\n",
      "requests.exceptions.HTTPError: 503 Server Error: Backend fetch failed for url: http://ergast.com/api/f1/2023/9/results.json\n",
      "Request for URL http://ergast.com/api/f1/2023/9/laps/1.json failed; using cached response\n",
      "Traceback (most recent call last):\n",
      "  File \"C:\\Users\\tuffe\\anaconda3\\Lib\\site-packages\\requests_cache\\session.py\", line 290, in _resend\n",
      "    response.raise_for_status()\n",
      "  File \"C:\\Users\\tuffe\\anaconda3\\Lib\\site-packages\\requests\\models.py\", line 1021, in raise_for_status\n",
      "    raise HTTPError(http_error_msg, response=self)\n",
      "requests.exceptions.HTTPError: 503 Server Error: Backend fetch failed for url: http://ergast.com/api/f1/2023/9/laps/1.json\n"
     ]
    },
    {
     "name": "stdout",
     "output_type": "stream",
     "text": [
      "Time to Load Data: 0:13:17.543748\n",
      "2023:Spielberg:R\n"
     ]
    },
    {
     "name": "stderr",
     "output_type": "stream",
     "text": [
      "Request for URL http://ergast.com/api/f1/2023/10/results.json failed; using cached response\n",
      "Traceback (most recent call last):\n",
      "  File \"C:\\Users\\tuffe\\anaconda3\\Lib\\site-packages\\requests_cache\\session.py\", line 290, in _resend\n",
      "    response.raise_for_status()\n",
      "  File \"C:\\Users\\tuffe\\anaconda3\\Lib\\site-packages\\requests\\models.py\", line 1021, in raise_for_status\n",
      "    raise HTTPError(http_error_msg, response=self)\n",
      "requests.exceptions.HTTPError: 503 Server Error: Backend fetch failed for url: http://ergast.com/api/f1/2023/10/results.json\n"
     ]
    },
    {
     "name": "stdout",
     "output_type": "stream",
     "text": [
      "Time to Load Data: 0:01:04.672640\n",
      "2023:Silverstone:FP1\n"
     ]
    },
    {
     "name": "stderr",
     "output_type": "stream",
     "text": [
      "Request for URL http://ergast.com/api/f1/2023/10/results.json failed; using cached response\n",
      "Traceback (most recent call last):\n",
      "  File \"C:\\Users\\tuffe\\anaconda3\\Lib\\site-packages\\requests_cache\\session.py\", line 290, in _resend\n",
      "    response.raise_for_status()\n",
      "  File \"C:\\Users\\tuffe\\anaconda3\\Lib\\site-packages\\requests\\models.py\", line 1021, in raise_for_status\n",
      "    raise HTTPError(http_error_msg, response=self)\n",
      "requests.exceptions.HTTPError: 503 Server Error: Backend fetch failed for url: http://ergast.com/api/f1/2023/10/results.json\n"
     ]
    },
    {
     "name": "stdout",
     "output_type": "stream",
     "text": [
      "Time to Load Data: 0:07:46.575048\n",
      "2023:Silverstone:FP2\n"
     ]
    },
    {
     "name": "stderr",
     "output_type": "stream",
     "text": [
      "Request for URL http://ergast.com/api/f1/2023/10/results.json failed; using cached response\n",
      "Traceback (most recent call last):\n",
      "  File \"C:\\Users\\tuffe\\anaconda3\\Lib\\site-packages\\requests_cache\\session.py\", line 290, in _resend\n",
      "    response.raise_for_status()\n",
      "  File \"C:\\Users\\tuffe\\anaconda3\\Lib\\site-packages\\requests\\models.py\", line 1021, in raise_for_status\n",
      "    raise HTTPError(http_error_msg, response=self)\n",
      "requests.exceptions.HTTPError: 503 Server Error: Backend fetch failed for url: http://ergast.com/api/f1/2023/10/results.json\n"
     ]
    },
    {
     "name": "stdout",
     "output_type": "stream",
     "text": [
      "Time to Load Data: 0:12:50.734354\n",
      "2023:Silverstone:FP3\n"
     ]
    },
    {
     "name": "stderr",
     "output_type": "stream",
     "text": [
      "C:\\Users\\tuffe\\anaconda3\\Lib\\site-packages\\fastf1\\core.py:3063: FutureWarning: In the future, `None` will be returned instead of an empty `Lap` object when there are no laps that satisfy the definition for fastest lap.\n",
      "  warnings.warn((\"In the future, `None` will be returned instead of \"\n",
      "Request for URL http://ergast.com/api/f1/2023/10/qualifying.json failed; using cached response\n",
      "Traceback (most recent call last):\n",
      "  File \"C:\\Users\\tuffe\\anaconda3\\Lib\\site-packages\\requests_cache\\session.py\", line 290, in _resend\n",
      "    response.raise_for_status()\n",
      "  File \"C:\\Users\\tuffe\\anaconda3\\Lib\\site-packages\\requests\\models.py\", line 1021, in raise_for_status\n",
      "    raise HTTPError(http_error_msg, response=self)\n",
      "requests.exceptions.HTTPError: 503 Server Error: Backend fetch failed for url: http://ergast.com/api/f1/2023/10/qualifying.json\n"
     ]
    },
    {
     "name": "stdout",
     "output_type": "stream",
     "text": [
      "Time to Load Data: 0:19:14.771125\n",
      "2023:Silverstone:Q\n",
      "Time to Load Data: 0:25:48.589007\n",
      "2023:Silverstone:R\n"
     ]
    },
    {
     "name": "stderr",
     "output_type": "stream",
     "text": [
      "Request for URL http://ergast.com/api/f1/2023/11/results.json failed; using cached response\n",
      "Traceback (most recent call last):\n",
      "  File \"C:\\Users\\tuffe\\anaconda3\\Lib\\site-packages\\requests_cache\\session.py\", line 290, in _resend\n",
      "    response.raise_for_status()\n",
      "  File \"C:\\Users\\tuffe\\anaconda3\\Lib\\site-packages\\requests\\models.py\", line 1021, in raise_for_status\n",
      "    raise HTTPError(http_error_msg, response=self)\n",
      "requests.exceptions.HTTPError: 503 Server Error: Backend fetch failed for url: http://ergast.com/api/f1/2023/11/results.json\n"
     ]
    },
    {
     "name": "stdout",
     "output_type": "stream",
     "text": [
      "Time to Load Data: 0:01:04.337526\n",
      "2023:Budapest:FP1\n"
     ]
    },
    {
     "name": "stderr",
     "output_type": "stream",
     "text": [
      "C:\\Users\\tuffe\\anaconda3\\Lib\\site-packages\\fastf1\\core.py:3063: FutureWarning: In the future, `None` will be returned instead of an empty `Lap` object when there are no laps that satisfy the definition for fastest lap.\n",
      "  warnings.warn((\"In the future, `None` will be returned instead of \"\n",
      "C:\\Users\\tuffe\\anaconda3\\Lib\\site-packages\\fastf1\\core.py:3063: FutureWarning: In the future, `None` will be returned instead of an empty `Lap` object when there are no laps that satisfy the definition for fastest lap.\n",
      "  warnings.warn((\"In the future, `None` will be returned instead of \"\n",
      "C:\\Users\\tuffe\\anaconda3\\Lib\\site-packages\\fastf1\\core.py:3063: FutureWarning: In the future, `None` will be returned instead of an empty `Lap` object when there are no laps that satisfy the definition for fastest lap.\n",
      "  warnings.warn((\"In the future, `None` will be returned instead of \"\n",
      "C:\\Users\\tuffe\\anaconda3\\Lib\\site-packages\\fastf1\\core.py:3063: FutureWarning: In the future, `None` will be returned instead of an empty `Lap` object when there are no laps that satisfy the definition for fastest lap.\n",
      "  warnings.warn((\"In the future, `None` will be returned instead of \"\n",
      "C:\\Users\\tuffe\\anaconda3\\Lib\\site-packages\\fastf1\\core.py:3063: FutureWarning: In the future, `None` will be returned instead of an empty `Lap` object when there are no laps that satisfy the definition for fastest lap.\n",
      "  warnings.warn((\"In the future, `None` will be returned instead of \"\n",
      "C:\\Users\\tuffe\\anaconda3\\Lib\\site-packages\\fastf1\\core.py:3063: FutureWarning: In the future, `None` will be returned instead of an empty `Lap` object when there are no laps that satisfy the definition for fastest lap.\n",
      "  warnings.warn((\"In the future, `None` will be returned instead of \"\n",
      "C:\\Users\\tuffe\\anaconda3\\Lib\\site-packages\\fastf1\\core.py:3063: FutureWarning: In the future, `None` will be returned instead of an empty `Lap` object when there are no laps that satisfy the definition for fastest lap.\n",
      "  warnings.warn((\"In the future, `None` will be returned instead of \"\n",
      "Request for URL http://ergast.com/api/f1/2023/11/results.json failed; using cached response\n",
      "Traceback (most recent call last):\n",
      "  File \"C:\\Users\\tuffe\\anaconda3\\Lib\\site-packages\\requests_cache\\session.py\", line 290, in _resend\n",
      "    response.raise_for_status()\n",
      "  File \"C:\\Users\\tuffe\\anaconda3\\Lib\\site-packages\\requests\\models.py\", line 1021, in raise_for_status\n",
      "    raise HTTPError(http_error_msg, response=self)\n",
      "requests.exceptions.HTTPError: 503 Server Error: Backend fetch failed for url: http://ergast.com/api/f1/2023/11/results.json\n"
     ]
    },
    {
     "name": "stdout",
     "output_type": "stream",
     "text": [
      "Time to Load Data: 0:04:55.567616\n",
      "2023:Budapest:FP2\n",
      "Time to Load Data: 0:10:39.575589\n",
      "2023:Budapest:FP3\n",
      "Time to Load Data: 0:16:14.404482\n",
      "2023:Budapest:Q\n"
     ]
    },
    {
     "name": "stderr",
     "output_type": "stream",
     "text": [
      "Request for URL http://ergast.com/api/f1/2023/11/results.json failed; using cached response\n",
      "Traceback (most recent call last):\n",
      "  File \"C:\\Users\\tuffe\\anaconda3\\Lib\\site-packages\\requests_cache\\session.py\", line 290, in _resend\n",
      "    response.raise_for_status()\n",
      "  File \"C:\\Users\\tuffe\\anaconda3\\Lib\\site-packages\\requests\\models.py\", line 1021, in raise_for_status\n",
      "    raise HTTPError(http_error_msg, response=self)\n",
      "requests.exceptions.HTTPError: 503 Server Error: Backend fetch failed for url: http://ergast.com/api/f1/2023/11/results.json\n"
     ]
    },
    {
     "name": "stdout",
     "output_type": "stream",
     "text": [
      "Time to Load Data: 0:21:51.909113\n",
      "2023:Budapest:R\n"
     ]
    },
    {
     "name": "stderr",
     "output_type": "stream",
     "text": [
      "C:\\Users\\tuffe\\anaconda3\\Lib\\site-packages\\fastf1\\core.py:3063: FutureWarning: In the future, `None` will be returned instead of an empty `Lap` object when there are no laps that satisfy the definition for fastest lap.\n",
      "  warnings.warn((\"In the future, `None` will be returned instead of \"\n",
      "C:\\Users\\tuffe\\anaconda3\\Lib\\site-packages\\fastf1\\core.py:3063: FutureWarning: In the future, `None` will be returned instead of an empty `Lap` object when there are no laps that satisfy the definition for fastest lap.\n",
      "  warnings.warn((\"In the future, `None` will be returned instead of \"\n"
     ]
    },
    {
     "name": "stdout",
     "output_type": "stream",
     "text": [
      "Time to Load Data: 0:00:51.265812\n",
      "2023:Spa-Francorchamps:FP1\n"
     ]
    },
    {
     "name": "stderr",
     "output_type": "stream",
     "text": [
      "C:\\Users\\tuffe\\anaconda3\\Lib\\site-packages\\fastf1\\core.py:3063: FutureWarning: In the future, `None` will be returned instead of an empty `Lap` object when there are no laps that satisfy the definition for fastest lap.\n",
      "  warnings.warn((\"In the future, `None` will be returned instead of \"\n",
      "C:\\Users\\tuffe\\anaconda3\\Lib\\site-packages\\fastf1\\core.py:3063: FutureWarning: In the future, `None` will be returned instead of an empty `Lap` object when there are no laps that satisfy the definition for fastest lap.\n",
      "  warnings.warn((\"In the future, `None` will be returned instead of \"\n",
      "C:\\Users\\tuffe\\anaconda3\\Lib\\site-packages\\fastf1\\core.py:3063: FutureWarning: In the future, `None` will be returned instead of an empty `Lap` object when there are no laps that satisfy the definition for fastest lap.\n",
      "  warnings.warn((\"In the future, `None` will be returned instead of \"\n",
      "C:\\Users\\tuffe\\anaconda3\\Lib\\site-packages\\fastf1\\core.py:3063: FutureWarning: In the future, `None` will be returned instead of an empty `Lap` object when there are no laps that satisfy the definition for fastest lap.\n",
      "  warnings.warn((\"In the future, `None` will be returned instead of \"\n",
      "C:\\Users\\tuffe\\anaconda3\\Lib\\site-packages\\fastf1\\core.py:3063: FutureWarning: In the future, `None` will be returned instead of an empty `Lap` object when there are no laps that satisfy the definition for fastest lap.\n",
      "  warnings.warn((\"In the future, `None` will be returned instead of \"\n",
      "Request for URL http://ergast.com/api/f1/2023/12/qualifying.json failed; using cached response\n",
      "Traceback (most recent call last):\n",
      "  File \"C:\\Users\\tuffe\\anaconda3\\Lib\\site-packages\\requests_cache\\session.py\", line 290, in _resend\n",
      "    response.raise_for_status()\n",
      "  File \"C:\\Users\\tuffe\\anaconda3\\Lib\\site-packages\\requests\\models.py\", line 1021, in raise_for_status\n",
      "    raise HTTPError(http_error_msg, response=self)\n",
      "requests.exceptions.HTTPError: 503 Server Error: Backend fetch failed for url: http://ergast.com/api/f1/2023/12/qualifying.json\n"
     ]
    },
    {
     "name": "stdout",
     "output_type": "stream",
     "text": [
      "Time to Load Data: 0:06:26.034662\n",
      "2023:Spa-Francorchamps:Q\n",
      "Time to Load Data: 0:12:07.753775\n",
      "2023:Spa-Francorchamps:SS\n"
     ]
    },
    {
     "name": "stderr",
     "output_type": "stream",
     "text": [
      "C:\\Users\\tuffe\\anaconda3\\Lib\\site-packages\\fastf1\\core.py:3063: FutureWarning: In the future, `None` will be returned instead of an empty `Lap` object when there are no laps that satisfy the definition for fastest lap.\n",
      "  warnings.warn((\"In the future, `None` will be returned instead of \"\n"
     ]
    },
    {
     "name": "stdout",
     "output_type": "stream",
     "text": [
      "Time to Load Data: 0:18:11.035093\n",
      "2023:Spa-Francorchamps:S\n"
     ]
    },
    {
     "name": "stderr",
     "output_type": "stream",
     "text": [
      "C:\\Users\\tuffe\\anaconda3\\Lib\\site-packages\\fastf1\\core.py:3063: FutureWarning: In the future, `None` will be returned instead of an empty `Lap` object when there are no laps that satisfy the definition for fastest lap.\n",
      "  warnings.warn((\"In the future, `None` will be returned instead of \"\n",
      "Request for URL http://ergast.com/api/f1/2023/12/results.json failed; using cached response\n",
      "Traceback (most recent call last):\n",
      "  File \"C:\\Users\\tuffe\\anaconda3\\Lib\\site-packages\\requests_cache\\session.py\", line 290, in _resend\n",
      "    response.raise_for_status()\n",
      "  File \"C:\\Users\\tuffe\\anaconda3\\Lib\\site-packages\\requests\\models.py\", line 1021, in raise_for_status\n",
      "    raise HTTPError(http_error_msg, response=self)\n",
      "requests.exceptions.HTTPError: 503 Server Error: Backend fetch failed for url: http://ergast.com/api/f1/2023/12/results.json\n",
      "Request for URL http://ergast.com/api/f1/2023/12/laps/1.json failed; using cached response\n",
      "Traceback (most recent call last):\n",
      "  File \"C:\\Users\\tuffe\\anaconda3\\Lib\\site-packages\\requests_cache\\session.py\", line 290, in _resend\n",
      "    response.raise_for_status()\n",
      "  File \"C:\\Users\\tuffe\\anaconda3\\Lib\\site-packages\\requests\\models.py\", line 1021, in raise_for_status\n",
      "    raise HTTPError(http_error_msg, response=self)\n",
      "requests.exceptions.HTTPError: 503 Server Error: Backend fetch failed for url: http://ergast.com/api/f1/2023/12/laps/1.json\n"
     ]
    },
    {
     "name": "stdout",
     "output_type": "stream",
     "text": [
      "Time to Load Data: 0:25:43.917374\n",
      "2023:Spa-Francorchamps:R\n"
     ]
    },
    {
     "name": "stderr",
     "output_type": "stream",
     "text": [
      "C:\\Users\\tuffe\\anaconda3\\Lib\\site-packages\\fastf1\\core.py:3063: FutureWarning: In the future, `None` will be returned instead of an empty `Lap` object when there are no laps that satisfy the definition for fastest lap.\n",
      "  warnings.warn((\"In the future, `None` will be returned instead of \"\n"
     ]
    },
    {
     "name": "stdout",
     "output_type": "stream",
     "text": [
      "Time to Load Data: 0:00:05.363658\n",
      "2023:Zandvoort:FP1\n"
     ]
    },
    {
     "name": "stderr",
     "output_type": "stream",
     "text": [
      "C:\\Users\\tuffe\\anaconda3\\Lib\\site-packages\\fastf1\\core.py:3063: FutureWarning: In the future, `None` will be returned instead of an empty `Lap` object when there are no laps that satisfy the definition for fastest lap.\n",
      "  warnings.warn((\"In the future, `None` will be returned instead of \"\n"
     ]
    },
    {
     "name": "stdout",
     "output_type": "stream",
     "text": [
      "Time to Load Data: 0:04:14.509551\n",
      "2023:Zandvoort:FP2\n"
     ]
    },
    {
     "name": "stderr",
     "output_type": "stream",
     "text": [
      "Request for URL http://ergast.com/api/f1/2023/13/results.json failed; using cached response\n",
      "Traceback (most recent call last):\n",
      "  File \"C:\\Users\\tuffe\\anaconda3\\Lib\\site-packages\\requests_cache\\session.py\", line 290, in _resend\n",
      "    response.raise_for_status()\n",
      "  File \"C:\\Users\\tuffe\\anaconda3\\Lib\\site-packages\\requests\\models.py\", line 1021, in raise_for_status\n",
      "    raise HTTPError(http_error_msg, response=self)\n",
      "requests.exceptions.HTTPError: 503 Server Error: Backend fetch failed for url: http://ergast.com/api/f1/2023/13/results.json\n"
     ]
    },
    {
     "name": "stdout",
     "output_type": "stream",
     "text": [
      "Time to Load Data: 0:09:32.579165\n",
      "2023:Zandvoort:FP3\n",
      "Time to Load Data: 0:14:10.509733\n",
      "2023:Zandvoort:Q\n"
     ]
    },
    {
     "name": "stderr",
     "output_type": "stream",
     "text": [
      "Request for URL http://ergast.com/api/f1/2023/13/results.json failed; using cached response\n",
      "Traceback (most recent call last):\n",
      "  File \"C:\\Users\\tuffe\\anaconda3\\Lib\\site-packages\\requests_cache\\session.py\", line 290, in _resend\n",
      "    response.raise_for_status()\n",
      "  File \"C:\\Users\\tuffe\\anaconda3\\Lib\\site-packages\\requests\\models.py\", line 1021, in raise_for_status\n",
      "    raise HTTPError(http_error_msg, response=self)\n",
      "requests.exceptions.HTTPError: 503 Server Error: Backend fetch failed for url: http://ergast.com/api/f1/2023/13/results.json\n"
     ]
    },
    {
     "name": "stdout",
     "output_type": "stream",
     "text": [
      "Time to Load Data: 0:20:12.841879\n",
      "2023:Zandvoort:R\n"
     ]
    },
    {
     "name": "stderr",
     "output_type": "stream",
     "text": [
      "Request for URL http://ergast.com/api/f1/2023/14/results.json failed; using cached response\n",
      "Traceback (most recent call last):\n",
      "  File \"C:\\Users\\tuffe\\anaconda3\\Lib\\site-packages\\requests_cache\\session.py\", line 290, in _resend\n",
      "    response.raise_for_status()\n",
      "  File \"C:\\Users\\tuffe\\anaconda3\\Lib\\site-packages\\requests\\models.py\", line 1021, in raise_for_status\n",
      "    raise HTTPError(http_error_msg, response=self)\n",
      "requests.exceptions.HTTPError: 503 Server Error: Backend fetch failed for url: http://ergast.com/api/f1/2023/14/results.json\n"
     ]
    },
    {
     "name": "stdout",
     "output_type": "stream",
     "text": [
      "Time to Load Data: 0:01:04.907935\n",
      "2023:Monza:FP1\n",
      "Time to Load Data: 0:05:22.033663\n",
      "2023:Monza:FP2\n"
     ]
    },
    {
     "name": "stderr",
     "output_type": "stream",
     "text": [
      "C:\\Users\\tuffe\\anaconda3\\Lib\\site-packages\\fastf1\\core.py:3063: FutureWarning: In the future, `None` will be returned instead of an empty `Lap` object when there are no laps that satisfy the definition for fastest lap.\n",
      "  warnings.warn((\"In the future, `None` will be returned instead of \"\n"
     ]
    },
    {
     "name": "stdout",
     "output_type": "stream",
     "text": [
      "Time to Load Data: 0:08:38.428395\n",
      "2023:Monza:FP3\n",
      "Time to Load Data: 0:12:31.850862\n",
      "2023:Monza:Q\n",
      "Time to Load Data: 0:16:24.723463\n",
      "2023:Monza:R\n"
     ]
    },
    {
     "name": "stderr",
     "output_type": "stream",
     "text": [
      "C:\\Users\\tuffe\\anaconda3\\Lib\\site-packages\\fastf1\\core.py:3063: FutureWarning: In the future, `None` will be returned instead of an empty `Lap` object when there are no laps that satisfy the definition for fastest lap.\n",
      "  warnings.warn((\"In the future, `None` will be returned instead of \"\n",
      "Request for URL http://ergast.com/api/f1/2023/15/results.json failed; using cached response\n",
      "Traceback (most recent call last):\n",
      "  File \"C:\\Users\\tuffe\\anaconda3\\Lib\\site-packages\\requests_cache\\session.py\", line 290, in _resend\n",
      "    response.raise_for_status()\n",
      "  File \"C:\\Users\\tuffe\\anaconda3\\Lib\\site-packages\\requests\\models.py\", line 1021, in raise_for_status\n",
      "    raise HTTPError(http_error_msg, response=self)\n",
      "requests.exceptions.HTTPError: 503 Server Error: Backend fetch failed for url: http://ergast.com/api/f1/2023/15/results.json\n"
     ]
    },
    {
     "name": "stdout",
     "output_type": "stream",
     "text": [
      "Time to Load Data: 0:01:03.846253\n",
      "2023:Marina Bay:FP1\n"
     ]
    },
    {
     "name": "stderr",
     "output_type": "stream",
     "text": [
      "Request for URL http://ergast.com/api/f1/2023/15/results.json failed; using cached response\n",
      "Traceback (most recent call last):\n",
      "  File \"C:\\Users\\tuffe\\anaconda3\\Lib\\site-packages\\requests_cache\\session.py\", line 290, in _resend\n",
      "    response.raise_for_status()\n",
      "  File \"C:\\Users\\tuffe\\anaconda3\\Lib\\site-packages\\requests\\models.py\", line 1021, in raise_for_status\n",
      "    raise HTTPError(http_error_msg, response=self)\n",
      "requests.exceptions.HTTPError: 503 Server Error: Backend fetch failed for url: http://ergast.com/api/f1/2023/15/results.json\n"
     ]
    },
    {
     "name": "stdout",
     "output_type": "stream",
     "text": [
      "Time to Load Data: 0:07:03.129024\n",
      "2023:Marina Bay:FP2\n"
     ]
    },
    {
     "name": "stderr",
     "output_type": "stream",
     "text": [
      "Request for URL http://ergast.com/api/f1/2023/15/results.json failed; using cached response\n",
      "Traceback (most recent call last):\n",
      "  File \"C:\\Users\\tuffe\\anaconda3\\Lib\\site-packages\\requests_cache\\session.py\", line 290, in _resend\n",
      "    response.raise_for_status()\n",
      "  File \"C:\\Users\\tuffe\\anaconda3\\Lib\\site-packages\\requests\\models.py\", line 1021, in raise_for_status\n",
      "    raise HTTPError(http_error_msg, response=self)\n",
      "requests.exceptions.HTTPError: 503 Server Error: Backend fetch failed for url: http://ergast.com/api/f1/2023/15/results.json\n"
     ]
    },
    {
     "name": "stdout",
     "output_type": "stream",
     "text": [
      "Time to Load Data: 0:13:57.409943\n",
      "2023:Marina Bay:FP3\n"
     ]
    },
    {
     "name": "stderr",
     "output_type": "stream",
     "text": [
      "Request for URL http://ergast.com/api/f1/2023/15/qualifying.json failed; using cached response\n",
      "Traceback (most recent call last):\n",
      "  File \"C:\\Users\\tuffe\\anaconda3\\Lib\\site-packages\\requests_cache\\session.py\", line 290, in _resend\n",
      "    response.raise_for_status()\n",
      "  File \"C:\\Users\\tuffe\\anaconda3\\Lib\\site-packages\\requests\\models.py\", line 1021, in raise_for_status\n",
      "    raise HTTPError(http_error_msg, response=self)\n",
      "requests.exceptions.HTTPError: 503 Server Error: Backend fetch failed for url: http://ergast.com/api/f1/2023/15/qualifying.json\n"
     ]
    },
    {
     "name": "stdout",
     "output_type": "stream",
     "text": [
      "Time to Load Data: 0:20:58.158433\n",
      "2023:Marina Bay:Q\n"
     ]
    },
    {
     "name": "stderr",
     "output_type": "stream",
     "text": [
      "Request for URL http://ergast.com/api/f1/2023/15/results.json failed; using cached response\n",
      "Traceback (most recent call last):\n",
      "  File \"C:\\Users\\tuffe\\anaconda3\\Lib\\site-packages\\requests_cache\\session.py\", line 290, in _resend\n",
      "    response.raise_for_status()\n",
      "  File \"C:\\Users\\tuffe\\anaconda3\\Lib\\site-packages\\requests\\models.py\", line 1021, in raise_for_status\n",
      "    raise HTTPError(http_error_msg, response=self)\n",
      "requests.exceptions.HTTPError: 503 Server Error: Backend fetch failed for url: http://ergast.com/api/f1/2023/15/results.json\n"
     ]
    },
    {
     "name": "stdout",
     "output_type": "stream",
     "text": [
      "Time to Load Data: 0:28:37.452469\n",
      "2023:Marina Bay:R\n"
     ]
    },
    {
     "name": "stderr",
     "output_type": "stream",
     "text": [
      "C:\\Users\\tuffe\\anaconda3\\Lib\\site-packages\\fastf1\\core.py:3063: FutureWarning: In the future, `None` will be returned instead of an empty `Lap` object when there are no laps that satisfy the definition for fastest lap.\n",
      "  warnings.warn((\"In the future, `None` will be returned instead of \"\n",
      "Request for URL http://ergast.com/api/f1/2023/16/results.json failed; using cached response\n",
      "Traceback (most recent call last):\n",
      "  File \"C:\\Users\\tuffe\\anaconda3\\Lib\\site-packages\\requests_cache\\session.py\", line 290, in _resend\n",
      "    response.raise_for_status()\n",
      "  File \"C:\\Users\\tuffe\\anaconda3\\Lib\\site-packages\\requests\\models.py\", line 1021, in raise_for_status\n",
      "    raise HTTPError(http_error_msg, response=self)\n",
      "requests.exceptions.HTTPError: 503 Server Error: Backend fetch failed for url: http://ergast.com/api/f1/2023/16/results.json\n"
     ]
    },
    {
     "name": "stdout",
     "output_type": "stream",
     "text": [
      "Time to Load Data: 0:01:04.098058\n",
      "2023:Suzuka:FP1\n"
     ]
    },
    {
     "name": "stderr",
     "output_type": "stream",
     "text": [
      "Request for URL http://ergast.com/api/f1/2023/16/results.json failed; using cached response\n",
      "Traceback (most recent call last):\n",
      "  File \"C:\\Users\\tuffe\\anaconda3\\Lib\\site-packages\\requests_cache\\session.py\", line 290, in _resend\n",
      "    response.raise_for_status()\n",
      "  File \"C:\\Users\\tuffe\\anaconda3\\Lib\\site-packages\\requests\\models.py\", line 1021, in raise_for_status\n",
      "    raise HTTPError(http_error_msg, response=self)\n",
      "requests.exceptions.HTTPError: 503 Server Error: Backend fetch failed for url: http://ergast.com/api/f1/2023/16/results.json\n"
     ]
    },
    {
     "name": "stdout",
     "output_type": "stream",
     "text": [
      "Time to Load Data: 0:07:46.984603\n",
      "2023:Suzuka:FP2\n"
     ]
    },
    {
     "name": "stderr",
     "output_type": "stream",
     "text": [
      "Request for URL http://ergast.com/api/f1/2023/16/results.json failed; using cached response\n",
      "Traceback (most recent call last):\n",
      "  File \"C:\\Users\\tuffe\\anaconda3\\Lib\\site-packages\\requests_cache\\session.py\", line 290, in _resend\n",
      "    response.raise_for_status()\n",
      "  File \"C:\\Users\\tuffe\\anaconda3\\Lib\\site-packages\\requests\\models.py\", line 1021, in raise_for_status\n",
      "    raise HTTPError(http_error_msg, response=self)\n",
      "requests.exceptions.HTTPError: 503 Server Error: Backend fetch failed for url: http://ergast.com/api/f1/2023/16/results.json\n"
     ]
    },
    {
     "name": "stdout",
     "output_type": "stream",
     "text": [
      "Time to Load Data: 0:14:31.374563\n",
      "2023:Suzuka:FP3\n",
      "Time to Load Data: 0:20:21.988942\n",
      "2023:Suzuka:Q\n"
     ]
    },
    {
     "name": "stderr",
     "output_type": "stream",
     "text": [
      "C:\\Users\\tuffe\\anaconda3\\Lib\\site-packages\\fastf1\\core.py:3063: FutureWarning: In the future, `None` will be returned instead of an empty `Lap` object when there are no laps that satisfy the definition for fastest lap.\n",
      "  warnings.warn((\"In the future, `None` will be returned instead of \"\n",
      "Request for URL http://ergast.com/api/f1/2023/16/results.json failed; using cached response\n",
      "Traceback (most recent call last):\n",
      "  File \"C:\\Users\\tuffe\\anaconda3\\Lib\\site-packages\\requests_cache\\session.py\", line 290, in _resend\n",
      "    response.raise_for_status()\n",
      "  File \"C:\\Users\\tuffe\\anaconda3\\Lib\\site-packages\\requests\\models.py\", line 1021, in raise_for_status\n",
      "    raise HTTPError(http_error_msg, response=self)\n",
      "requests.exceptions.HTTPError: 503 Server Error: Backend fetch failed for url: http://ergast.com/api/f1/2023/16/results.json\n",
      "Request for URL http://ergast.com/api/f1/2023/16/laps/1.json failed; using cached response\n",
      "Traceback (most recent call last):\n",
      "  File \"C:\\Users\\tuffe\\anaconda3\\Lib\\site-packages\\requests_cache\\session.py\", line 290, in _resend\n",
      "    response.raise_for_status()\n",
      "  File \"C:\\Users\\tuffe\\anaconda3\\Lib\\site-packages\\requests\\models.py\", line 1021, in raise_for_status\n",
      "    raise HTTPError(http_error_msg, response=self)\n",
      "requests.exceptions.HTTPError: 503 Server Error: Backend fetch failed for url: http://ergast.com/api/f1/2023/16/laps/1.json\n"
     ]
    },
    {
     "name": "stdout",
     "output_type": "stream",
     "text": [
      "Time to Load Data: 0:27:12.204830\n",
      "2023:Suzuka:R\n"
     ]
    },
    {
     "name": "stderr",
     "output_type": "stream",
     "text": [
      "Request for URL http://ergast.com/api/f1/2023/17/results.json failed; using cached response\n",
      "Traceback (most recent call last):\n",
      "  File \"C:\\Users\\tuffe\\anaconda3\\Lib\\site-packages\\requests_cache\\session.py\", line 290, in _resend\n",
      "    response.raise_for_status()\n",
      "  File \"C:\\Users\\tuffe\\anaconda3\\Lib\\site-packages\\requests\\models.py\", line 1021, in raise_for_status\n",
      "    raise HTTPError(http_error_msg, response=self)\n",
      "requests.exceptions.HTTPError: 503 Server Error: Backend fetch failed for url: http://ergast.com/api/f1/2023/17/results.json\n"
     ]
    },
    {
     "name": "stdout",
     "output_type": "stream",
     "text": [
      "Time to Load Data: 0:01:04.668935\n",
      "2023:Lusail:FP1\n",
      "Time to Load Data: 0:06:46.413357\n",
      "2023:Lusail:Q\n",
      "Time to Load Data: 0:11:19.822614\n",
      "2023:Lusail:SS\n",
      "Time to Load Data: 0:16:25.911131\n",
      "2023:Lusail:S\n"
     ]
    },
    {
     "name": "stderr",
     "output_type": "stream",
     "text": [
      "C:\\Users\\tuffe\\anaconda3\\Lib\\site-packages\\fastf1\\core.py:3063: FutureWarning: In the future, `None` will be returned instead of an empty `Lap` object when there are no laps that satisfy the definition for fastest lap.\n",
      "  warnings.warn((\"In the future, `None` will be returned instead of \"\n",
      "Request for URL http://ergast.com/api/f1/2023/17/results.json failed; using cached response\n",
      "Traceback (most recent call last):\n",
      "  File \"C:\\Users\\tuffe\\anaconda3\\Lib\\site-packages\\requests_cache\\session.py\", line 290, in _resend\n",
      "    response.raise_for_status()\n",
      "  File \"C:\\Users\\tuffe\\anaconda3\\Lib\\site-packages\\requests\\models.py\", line 1021, in raise_for_status\n",
      "    raise HTTPError(http_error_msg, response=self)\n",
      "requests.exceptions.HTTPError: 503 Server Error: Backend fetch failed for url: http://ergast.com/api/f1/2023/17/results.json\n"
     ]
    },
    {
     "name": "stdout",
     "output_type": "stream",
     "text": [
      "Time to Load Data: 0:22:16.435862\n",
      "2023:Lusail:R\n"
     ]
    },
    {
     "name": "stderr",
     "output_type": "stream",
     "text": [
      "C:\\Users\\tuffe\\anaconda3\\Lib\\site-packages\\fastf1\\core.py:3063: FutureWarning: In the future, `None` will be returned instead of an empty `Lap` object when there are no laps that satisfy the definition for fastest lap.\n",
      "  warnings.warn((\"In the future, `None` will be returned instead of \"\n",
      "Request for URL http://ergast.com/api/f1/2023/18/results.json failed; using cached response\n",
      "Traceback (most recent call last):\n",
      "  File \"C:\\Users\\tuffe\\anaconda3\\Lib\\site-packages\\requests_cache\\session.py\", line 290, in _resend\n",
      "    response.raise_for_status()\n",
      "  File \"C:\\Users\\tuffe\\anaconda3\\Lib\\site-packages\\requests\\models.py\", line 1021, in raise_for_status\n",
      "    raise HTTPError(http_error_msg, response=self)\n",
      "requests.exceptions.HTTPError: 503 Server Error: Backend fetch failed for url: http://ergast.com/api/f1/2023/18/results.json\n"
     ]
    },
    {
     "name": "stdout",
     "output_type": "stream",
     "text": [
      "Time to Load Data: 0:01:04.080685\n",
      "2023:Austin:FP1\n",
      "Time to Load Data: 0:07:48.126578\n",
      "2023:Austin:Q\n",
      "Time to Load Data: 0:13:26.403361\n",
      "2023:Austin:SS\n",
      "Time to Load Data: 0:19:35.142253\n",
      "2023:Austin:S\n"
     ]
    },
    {
     "name": "stderr",
     "output_type": "stream",
     "text": [
      "Request for URL http://ergast.com/api/f1/2023/18/results.json failed; using cached response\n",
      "Traceback (most recent call last):\n",
      "  File \"C:\\Users\\tuffe\\anaconda3\\Lib\\site-packages\\requests_cache\\session.py\", line 290, in _resend\n",
      "    response.raise_for_status()\n",
      "  File \"C:\\Users\\tuffe\\anaconda3\\Lib\\site-packages\\requests\\models.py\", line 1021, in raise_for_status\n",
      "    raise HTTPError(http_error_msg, response=self)\n",
      "requests.exceptions.HTTPError: 503 Server Error: Backend fetch failed for url: http://ergast.com/api/f1/2023/18/results.json\n"
     ]
    },
    {
     "name": "stdout",
     "output_type": "stream",
     "text": [
      "Time to Load Data: 0:28:05.039403\n",
      "2023:Austin:R\n"
     ]
    },
    {
     "name": "stderr",
     "output_type": "stream",
     "text": [
      "Request for URL http://ergast.com/api/f1/2023/19/results.json failed; using cached response\n",
      "Traceback (most recent call last):\n",
      "  File \"C:\\Users\\tuffe\\anaconda3\\Lib\\site-packages\\requests_cache\\session.py\", line 290, in _resend\n",
      "    response.raise_for_status()\n",
      "  File \"C:\\Users\\tuffe\\anaconda3\\Lib\\site-packages\\requests\\models.py\", line 1021, in raise_for_status\n",
      "    raise HTTPError(http_error_msg, response=self)\n",
      "requests.exceptions.HTTPError: 503 Server Error: Backend fetch failed for url: http://ergast.com/api/f1/2023/19/results.json\n"
     ]
    },
    {
     "name": "stdout",
     "output_type": "stream",
     "text": [
      "Time to Load Data: 0:01:05.034352\n",
      "2023:Mexico City:FP1\n"
     ]
    },
    {
     "name": "stderr",
     "output_type": "stream",
     "text": [
      "C:\\Users\\tuffe\\anaconda3\\Lib\\site-packages\\fastf1\\core.py:3063: FutureWarning: In the future, `None` will be returned instead of an empty `Lap` object when there are no laps that satisfy the definition for fastest lap.\n",
      "  warnings.warn((\"In the future, `None` will be returned instead of \"\n",
      "Request for URL http://ergast.com/api/f1/2023/19/results.json failed; using cached response\n",
      "Traceback (most recent call last):\n",
      "  File \"C:\\Users\\tuffe\\anaconda3\\Lib\\site-packages\\requests_cache\\session.py\", line 290, in _resend\n",
      "    response.raise_for_status()\n",
      "  File \"C:\\Users\\tuffe\\anaconda3\\Lib\\site-packages\\requests\\models.py\", line 1021, in raise_for_status\n",
      "    raise HTTPError(http_error_msg, response=self)\n",
      "requests.exceptions.HTTPError: 503 Server Error: Backend fetch failed for url: http://ergast.com/api/f1/2023/19/results.json\n"
     ]
    },
    {
     "name": "stdout",
     "output_type": "stream",
     "text": [
      "Time to Load Data: 0:07:02.889423\n",
      "2023:Mexico City:FP2\n"
     ]
    },
    {
     "name": "stderr",
     "output_type": "stream",
     "text": [
      "Request for URL http://ergast.com/api/f1/2023/19/results.json failed; using cached response\n",
      "Traceback (most recent call last):\n",
      "  File \"C:\\Users\\tuffe\\anaconda3\\Lib\\site-packages\\requests_cache\\session.py\", line 290, in _resend\n",
      "    response.raise_for_status()\n",
      "  File \"C:\\Users\\tuffe\\anaconda3\\Lib\\site-packages\\requests\\models.py\", line 1021, in raise_for_status\n",
      "    raise HTTPError(http_error_msg, response=self)\n",
      "requests.exceptions.HTTPError: 503 Server Error: Backend fetch failed for url: http://ergast.com/api/f1/2023/19/results.json\n"
     ]
    },
    {
     "name": "stdout",
     "output_type": "stream",
     "text": [
      "Time to Load Data: 0:12:27.465324\n",
      "2023:Mexico City:FP3\n",
      "Time to Load Data: 0:18:01.821463\n",
      "2023:Mexico City:Q\n"
     ]
    },
    {
     "name": "stderr",
     "output_type": "stream",
     "text": [
      "C:\\Users\\tuffe\\anaconda3\\Lib\\site-packages\\fastf1\\core.py:3063: FutureWarning: In the future, `None` will be returned instead of an empty `Lap` object when there are no laps that satisfy the definition for fastest lap.\n",
      "  warnings.warn((\"In the future, `None` will be returned instead of \"\n"
     ]
    },
    {
     "name": "stdout",
     "output_type": "stream",
     "text": [
      "Time to Load Data: 0:23:53.775382\n",
      "2023:Mexico City:R\n"
     ]
    },
    {
     "name": "stderr",
     "output_type": "stream",
     "text": [
      "C:\\Users\\tuffe\\anaconda3\\Lib\\site-packages\\fastf1\\core.py:3063: FutureWarning: In the future, `None` will be returned instead of an empty `Lap` object when there are no laps that satisfy the definition for fastest lap.\n",
      "  warnings.warn((\"In the future, `None` will be returned instead of \"\n",
      "Request for URL http://ergast.com/api/f1/2023/20/results.json failed; using cached response\n",
      "Traceback (most recent call last):\n",
      "  File \"C:\\Users\\tuffe\\anaconda3\\Lib\\site-packages\\requests_cache\\session.py\", line 290, in _resend\n",
      "    response.raise_for_status()\n",
      "  File \"C:\\Users\\tuffe\\anaconda3\\Lib\\site-packages\\requests\\models.py\", line 1021, in raise_for_status\n",
      "    raise HTTPError(http_error_msg, response=self)\n",
      "requests.exceptions.HTTPError: 503 Server Error: Backend fetch failed for url: http://ergast.com/api/f1/2023/20/results.json\n"
     ]
    },
    {
     "name": "stdout",
     "output_type": "stream",
     "text": [
      "Time to Load Data: 0:01:05.738591\n",
      "2023:São Paulo:FP1\n",
      "Time to Load Data: 0:06:32.557329\n",
      "2023:São Paulo:Q\n",
      "Time to Load Data: 0:10:37.481320\n",
      "2023:São Paulo:SS\n",
      "Time to Load Data: 0:14:23.669531\n",
      "2023:São Paulo:S\n",
      "Time to Load Data: 0:21:09.823944\n",
      "2023:São Paulo:R\n"
     ]
    },
    {
     "name": "stderr",
     "output_type": "stream",
     "text": [
      "C:\\Users\\tuffe\\anaconda3\\Lib\\site-packages\\fastf1\\core.py:3063: FutureWarning: In the future, `None` will be returned instead of an empty `Lap` object when there are no laps that satisfy the definition for fastest lap.\n",
      "  warnings.warn((\"In the future, `None` will be returned instead of \"\n",
      "C:\\Users\\tuffe\\anaconda3\\Lib\\site-packages\\fastf1\\core.py:3063: FutureWarning: In the future, `None` will be returned instead of an empty `Lap` object when there are no laps that satisfy the definition for fastest lap.\n",
      "  warnings.warn((\"In the future, `None` will be returned instead of \"\n",
      "C:\\Users\\tuffe\\anaconda3\\Lib\\site-packages\\fastf1\\core.py:3063: FutureWarning: In the future, `None` will be returned instead of an empty `Lap` object when there are no laps that satisfy the definition for fastest lap.\n",
      "  warnings.warn((\"In the future, `None` will be returned instead of \"\n",
      "Request for URL http://ergast.com/api/f1/2023/21/results.json failed; using cached response\n",
      "Traceback (most recent call last):\n",
      "  File \"C:\\Users\\tuffe\\anaconda3\\Lib\\site-packages\\requests_cache\\session.py\", line 290, in _resend\n",
      "    response.raise_for_status()\n",
      "  File \"C:\\Users\\tuffe\\anaconda3\\Lib\\site-packages\\requests\\models.py\", line 1021, in raise_for_status\n",
      "    raise HTTPError(http_error_msg, response=self)\n",
      "requests.exceptions.HTTPError: 503 Server Error: Backend fetch failed for url: http://ergast.com/api/f1/2023/21/results.json\n"
     ]
    },
    {
     "name": "stdout",
     "output_type": "stream",
     "text": [
      "Time to Load Data: 0:01:05.948086\n",
      "2023:Las Vegas:FP1\n"
     ]
    },
    {
     "name": "stderr",
     "output_type": "stream",
     "text": [
      "C:\\Users\\tuffe\\anaconda3\\Lib\\site-packages\\fastf1\\core.py:3063: FutureWarning: In the future, `None` will be returned instead of an empty `Lap` object when there are no laps that satisfy the definition for fastest lap.\n",
      "  warnings.warn((\"In the future, `None` will be returned instead of \"\n",
      "C:\\Users\\tuffe\\anaconda3\\Lib\\site-packages\\fastf1\\core.py:3063: FutureWarning: In the future, `None` will be returned instead of an empty `Lap` object when there are no laps that satisfy the definition for fastest lap.\n",
      "  warnings.warn((\"In the future, `None` will be returned instead of \"\n",
      "C:\\Users\\tuffe\\anaconda3\\Lib\\site-packages\\fastf1\\core.py:3063: FutureWarning: In the future, `None` will be returned instead of an empty `Lap` object when there are no laps that satisfy the definition for fastest lap.\n",
      "  warnings.warn((\"In the future, `None` will be returned instead of \"\n",
      "C:\\Users\\tuffe\\anaconda3\\Lib\\site-packages\\fastf1\\core.py:3063: FutureWarning: In the future, `None` will be returned instead of an empty `Lap` object when there are no laps that satisfy the definition for fastest lap.\n",
      "  warnings.warn((\"In the future, `None` will be returned instead of \"\n"
     ]
    },
    {
     "name": "stdout",
     "output_type": "stream",
     "text": [
      "Time to Load Data: 0:05:56.314422\n",
      "2023:Las Vegas:FP2\n",
      "Time to Load Data: 0:12:47.515757\n",
      "2023:Las Vegas:FP3\n"
     ]
    },
    {
     "name": "stderr",
     "output_type": "stream",
     "text": [
      "Request for URL http://ergast.com/api/f1/2023/21/qualifying.json failed; using cached response\n",
      "Traceback (most recent call last):\n",
      "  File \"C:\\Users\\tuffe\\anaconda3\\Lib\\site-packages\\requests_cache\\session.py\", line 290, in _resend\n",
      "    response.raise_for_status()\n",
      "  File \"C:\\Users\\tuffe\\anaconda3\\Lib\\site-packages\\requests\\models.py\", line 1021, in raise_for_status\n",
      "    raise HTTPError(http_error_msg, response=self)\n",
      "requests.exceptions.HTTPError: 503 Server Error: Backend fetch failed for url: http://ergast.com/api/f1/2023/21/qualifying.json\n"
     ]
    },
    {
     "name": "stdout",
     "output_type": "stream",
     "text": [
      "Time to Load Data: 0:18:07.392400\n",
      "2023:Las Vegas:Q\n",
      "Time to Load Data: 0:24:26.245676\n",
      "2023:Las Vegas:R\n"
     ]
    },
    {
     "name": "stderr",
     "output_type": "stream",
     "text": [
      "Request for URL http://ergast.com/api/f1/2023/22/results.json failed; using cached response\n",
      "Traceback (most recent call last):\n",
      "  File \"C:\\Users\\tuffe\\anaconda3\\Lib\\site-packages\\requests_cache\\session.py\", line 290, in _resend\n",
      "    response.raise_for_status()\n",
      "  File \"C:\\Users\\tuffe\\anaconda3\\Lib\\site-packages\\requests\\models.py\", line 1021, in raise_for_status\n",
      "    raise HTTPError(http_error_msg, response=self)\n",
      "requests.exceptions.HTTPError: 503 Server Error: Backend fetch failed for url: http://ergast.com/api/f1/2023/22/results.json\n"
     ]
    },
    {
     "name": "stdout",
     "output_type": "stream",
     "text": [
      "Time to Load Data: 0:01:05.186711\n",
      "2023:Yas Island:FP1\n"
     ]
    },
    {
     "name": "stderr",
     "output_type": "stream",
     "text": [
      "Request for URL http://ergast.com/api/f1/2023/22/results.json failed; using cached response\n",
      "Traceback (most recent call last):\n",
      "  File \"C:\\Users\\tuffe\\anaconda3\\Lib\\site-packages\\requests_cache\\session.py\", line 290, in _resend\n",
      "    response.raise_for_status()\n",
      "  File \"C:\\Users\\tuffe\\anaconda3\\Lib\\site-packages\\requests\\models.py\", line 1021, in raise_for_status\n",
      "    raise HTTPError(http_error_msg, response=self)\n",
      "requests.exceptions.HTTPError: 503 Server Error: Backend fetch failed for url: http://ergast.com/api/f1/2023/22/results.json\n"
     ]
    },
    {
     "name": "stdout",
     "output_type": "stream",
     "text": [
      "Time to Load Data: 0:07:11.204576\n",
      "2023:Yas Island:FP2\n"
     ]
    },
    {
     "name": "stderr",
     "output_type": "stream",
     "text": [
      "Request for URL http://ergast.com/api/f1/2023/22/results.json failed; using cached response\n",
      "Traceback (most recent call last):\n",
      "  File \"C:\\Users\\tuffe\\anaconda3\\Lib\\site-packages\\requests_cache\\session.py\", line 290, in _resend\n",
      "    response.raise_for_status()\n",
      "  File \"C:\\Users\\tuffe\\anaconda3\\Lib\\site-packages\\requests\\models.py\", line 1021, in raise_for_status\n",
      "    raise HTTPError(http_error_msg, response=self)\n",
      "requests.exceptions.HTTPError: 503 Server Error: Backend fetch failed for url: http://ergast.com/api/f1/2023/22/results.json\n"
     ]
    },
    {
     "name": "stdout",
     "output_type": "stream",
     "text": [
      "Time to Load Data: 0:12:12.689184\n",
      "2023:Yas Island:FP3\n",
      "Time to Load Data: 0:18:02.370472\n",
      "2023:Yas Island:Q\n"
     ]
    },
    {
     "name": "stderr",
     "output_type": "stream",
     "text": [
      "C:\\Users\\tuffe\\anaconda3\\Lib\\site-packages\\fastf1\\core.py:3063: FutureWarning: In the future, `None` will be returned instead of an empty `Lap` object when there are no laps that satisfy the definition for fastest lap.\n",
      "  warnings.warn((\"In the future, `None` will be returned instead of \"\n"
     ]
    },
    {
     "name": "stdout",
     "output_type": "stream",
     "text": [
      "Time to Load Data: 0:23:54.694239\n",
      "2023:Yas Island:R\n",
      "Time to Load Data: 0:00:05.213529\n",
      "2024:Sakhir:FP1\n",
      "Time to Load Data: 0:04:48.922724\n",
      "2024:Sakhir:FP2\n"
     ]
    },
    {
     "name": "stderr",
     "output_type": "stream",
     "text": [
      "Request for URL http://ergast.com/api/f1/2024/1/results.json failed; using cached response\n",
      "Traceback (most recent call last):\n",
      "  File \"C:\\Users\\tuffe\\anaconda3\\Lib\\site-packages\\requests_cache\\session.py\", line 290, in _resend\n",
      "    response.raise_for_status()\n",
      "  File \"C:\\Users\\tuffe\\anaconda3\\Lib\\site-packages\\requests\\models.py\", line 1021, in raise_for_status\n",
      "    raise HTTPError(http_error_msg, response=self)\n",
      "requests.exceptions.HTTPError: 503 Server Error: Backend fetch failed for url: http://ergast.com/api/f1/2024/1/results.json\n"
     ]
    },
    {
     "name": "stdout",
     "output_type": "stream",
     "text": [
      "Time to Load Data: 0:10:07.840276\n",
      "2024:Sakhir:FP3\n",
      "Time to Load Data: 0:15:30.624416\n",
      "2024:Sakhir:Q\n"
     ]
    },
    {
     "name": "stderr",
     "output_type": "stream",
     "text": [
      "Request for URL http://ergast.com/api/f1/2024/1/results.json failed; using cached response\n",
      "Traceback (most recent call last):\n",
      "  File \"C:\\Users\\tuffe\\anaconda3\\Lib\\site-packages\\requests_cache\\session.py\", line 290, in _resend\n",
      "    response.raise_for_status()\n",
      "  File \"C:\\Users\\tuffe\\anaconda3\\Lib\\site-packages\\requests\\models.py\", line 1021, in raise_for_status\n",
      "    raise HTTPError(http_error_msg, response=self)\n",
      "requests.exceptions.HTTPError: 503 Server Error: Backend fetch failed for url: http://ergast.com/api/f1/2024/1/results.json\n"
     ]
    },
    {
     "name": "stdout",
     "output_type": "stream",
     "text": [
      "Time to Load Data: 0:21:22.637112\n",
      "2024:Sakhir:R\n",
      "Time to Load Data: 0:00:53.578883\n",
      "2024:Jeddah:FP1\n",
      "Time to Load Data: 0:09:42.430996\n",
      "2024:Jeddah:FP2\n"
     ]
    },
    {
     "name": "stderr",
     "output_type": "stream",
     "text": [
      "Request for URL http://ergast.com/api/f1/2024/2/results.json failed; using cached response\n",
      "Traceback (most recent call last):\n",
      "  File \"C:\\Users\\tuffe\\anaconda3\\Lib\\site-packages\\requests_cache\\session.py\", line 290, in _resend\n",
      "    response.raise_for_status()\n",
      "  File \"C:\\Users\\tuffe\\anaconda3\\Lib\\site-packages\\requests\\models.py\", line 1021, in raise_for_status\n",
      "    raise HTTPError(http_error_msg, response=self)\n",
      "requests.exceptions.HTTPError: 503 Server Error: Backend fetch failed for url: http://ergast.com/api/f1/2024/2/results.json\n"
     ]
    },
    {
     "name": "stdout",
     "output_type": "stream",
     "text": [
      "Time to Load Data: 0:19:04.668686\n",
      "2024:Jeddah:FP3\n"
     ]
    },
    {
     "name": "stderr",
     "output_type": "stream",
     "text": [
      "C:\\Users\\tuffe\\anaconda3\\Lib\\site-packages\\fastf1\\core.py:3063: FutureWarning: In the future, `None` will be returned instead of an empty `Lap` object when there are no laps that satisfy the definition for fastest lap.\n",
      "  warnings.warn((\"In the future, `None` will be returned instead of \"\n"
     ]
    },
    {
     "name": "stdout",
     "output_type": "stream",
     "text": [
      "Time to Load Data: 0:25:33.338401\n",
      "2024:Jeddah:Q\n"
     ]
    },
    {
     "name": "stderr",
     "output_type": "stream",
     "text": [
      "C:\\Users\\tuffe\\anaconda3\\Lib\\site-packages\\fastf1\\core.py:3063: FutureWarning: In the future, `None` will be returned instead of an empty `Lap` object when there are no laps that satisfy the definition for fastest lap.\n",
      "  warnings.warn((\"In the future, `None` will be returned instead of \"\n"
     ]
    },
    {
     "name": "stdout",
     "output_type": "stream",
     "text": [
      "Time to Load Data: 0:33:48.184460\n",
      "2024:Jeddah:R\n"
     ]
    },
    {
     "name": "stderr",
     "output_type": "stream",
     "text": [
      "C:\\Users\\tuffe\\anaconda3\\Lib\\site-packages\\fastf1\\core.py:3063: FutureWarning: In the future, `None` will be returned instead of an empty `Lap` object when there are no laps that satisfy the definition for fastest lap.\n",
      "  warnings.warn((\"In the future, `None` will be returned instead of \"\n",
      "Request for URL http://ergast.com/api/f1/2024/3/results.json failed; using cached response\n",
      "Traceback (most recent call last):\n",
      "  File \"C:\\Users\\tuffe\\anaconda3\\Lib\\site-packages\\requests_cache\\session.py\", line 290, in _resend\n",
      "    response.raise_for_status()\n",
      "  File \"C:\\Users\\tuffe\\anaconda3\\Lib\\site-packages\\requests\\models.py\", line 1021, in raise_for_status\n",
      "    raise HTTPError(http_error_msg, response=self)\n",
      "requests.exceptions.HTTPError: 503 Server Error: Backend fetch failed for url: http://ergast.com/api/f1/2024/3/results.json\n"
     ]
    },
    {
     "name": "stdout",
     "output_type": "stream",
     "text": [
      "Time to Load Data: 0:00:08.685811\n",
      "2024:Melbourne:FP1\n"
     ]
    },
    {
     "name": "stderr",
     "output_type": "stream",
     "text": [
      "Request for URL http://ergast.com/api/f1/2024/3/results.json failed; using cached response\n",
      "Traceback (most recent call last):\n",
      "  File \"C:\\Users\\tuffe\\anaconda3\\Lib\\site-packages\\requests_cache\\session.py\", line 290, in _resend\n",
      "    response.raise_for_status()\n",
      "  File \"C:\\Users\\tuffe\\anaconda3\\Lib\\site-packages\\requests\\models.py\", line 1021, in raise_for_status\n",
      "    raise HTTPError(http_error_msg, response=self)\n",
      "requests.exceptions.HTTPError: 503 Server Error: Backend fetch failed for url: http://ergast.com/api/f1/2024/3/results.json\n"
     ]
    },
    {
     "name": "stdout",
     "output_type": "stream",
     "text": [
      "Time to Load Data: 0:05:26.295239\n",
      "2024:Melbourne:FP2\n"
     ]
    },
    {
     "name": "stderr",
     "output_type": "stream",
     "text": [
      "Request for URL http://ergast.com/api/f1/2024/3/results.json failed; using cached response\n",
      "Traceback (most recent call last):\n",
      "  File \"C:\\Users\\tuffe\\anaconda3\\Lib\\site-packages\\requests_cache\\session.py\", line 290, in _resend\n",
      "    response.raise_for_status()\n",
      "  File \"C:\\Users\\tuffe\\anaconda3\\Lib\\site-packages\\requests\\models.py\", line 1021, in raise_for_status\n",
      "    raise HTTPError(http_error_msg, response=self)\n",
      "requests.exceptions.HTTPError: 503 Server Error: Backend fetch failed for url: http://ergast.com/api/f1/2024/3/results.json\n"
     ]
    },
    {
     "name": "stdout",
     "output_type": "stream",
     "text": [
      "Time to Load Data: 0:10:26.954202\n",
      "2024:Melbourne:FP3\n",
      "Time to Load Data: 0:14:23.838118\n",
      "2024:Melbourne:Q\n"
     ]
    },
    {
     "name": "stderr",
     "output_type": "stream",
     "text": [
      "Request for URL http://ergast.com/api/f1/2024/3/results.json failed; using cached response\n",
      "Traceback (most recent call last):\n",
      "  File \"C:\\Users\\tuffe\\anaconda3\\Lib\\site-packages\\requests_cache\\session.py\", line 290, in _resend\n",
      "    response.raise_for_status()\n",
      "  File \"C:\\Users\\tuffe\\anaconda3\\Lib\\site-packages\\requests\\models.py\", line 1021, in raise_for_status\n",
      "    raise HTTPError(http_error_msg, response=self)\n",
      "requests.exceptions.HTTPError: 503 Server Error: Backend fetch failed for url: http://ergast.com/api/f1/2024/3/results.json\n",
      "Request for URL http://ergast.com/api/f1/2024/3/laps/1.json failed; using cached response\n",
      "Traceback (most recent call last):\n",
      "  File \"C:\\Users\\tuffe\\anaconda3\\Lib\\site-packages\\requests_cache\\session.py\", line 290, in _resend\n",
      "    response.raise_for_status()\n",
      "  File \"C:\\Users\\tuffe\\anaconda3\\Lib\\site-packages\\requests\\models.py\", line 1021, in raise_for_status\n",
      "    raise HTTPError(http_error_msg, response=self)\n",
      "requests.exceptions.HTTPError: 503 Server Error: Backend fetch failed for url: http://ergast.com/api/f1/2024/3/laps/1.json\n"
     ]
    },
    {
     "name": "stdout",
     "output_type": "stream",
     "text": [
      "Time to Load Data: 0:20:06.712597\n",
      "2024:Melbourne:R\n"
     ]
    },
    {
     "name": "stderr",
     "output_type": "stream",
     "text": [
      "Request for URL http://ergast.com/api/f1/2024/4/results.json failed; using cached response\n",
      "Traceback (most recent call last):\n",
      "  File \"C:\\Users\\tuffe\\anaconda3\\Lib\\site-packages\\requests_cache\\session.py\", line 290, in _resend\n",
      "    response.raise_for_status()\n",
      "  File \"C:\\Users\\tuffe\\anaconda3\\Lib\\site-packages\\requests\\models.py\", line 1021, in raise_for_status\n",
      "    raise HTTPError(http_error_msg, response=self)\n",
      "requests.exceptions.HTTPError: 503 Server Error: Backend fetch failed for url: http://ergast.com/api/f1/2024/4/results.json\n"
     ]
    },
    {
     "name": "stdout",
     "output_type": "stream",
     "text": [
      "Time to Load Data: 0:00:07.952691\n",
      "2024:Suzuka:FP1\n"
     ]
    },
    {
     "name": "stderr",
     "output_type": "stream",
     "text": [
      "Request for URL http://ergast.com/api/f1/2024/4/results.json failed; using cached response\n",
      "Traceback (most recent call last):\n",
      "  File \"C:\\Users\\tuffe\\anaconda3\\Lib\\site-packages\\requests_cache\\session.py\", line 290, in _resend\n",
      "    response.raise_for_status()\n",
      "  File \"C:\\Users\\tuffe\\anaconda3\\Lib\\site-packages\\requests\\models.py\", line 1021, in raise_for_status\n",
      "    raise HTTPError(http_error_msg, response=self)\n",
      "requests.exceptions.HTTPError: 503 Server Error: Backend fetch failed for url: http://ergast.com/api/f1/2024/4/results.json\n"
     ]
    },
    {
     "name": "stdout",
     "output_type": "stream",
     "text": [
      "Time to Load Data: 0:05:54.091537\n",
      "2024:Suzuka:FP2\n"
     ]
    },
    {
     "name": "stderr",
     "output_type": "stream",
     "text": [
      "C:\\Users\\tuffe\\anaconda3\\Lib\\site-packages\\fastf1\\core.py:3063: FutureWarning: In the future, `None` will be returned instead of an empty `Lap` object when there are no laps that satisfy the definition for fastest lap.\n",
      "  warnings.warn((\"In the future, `None` will be returned instead of \"\n",
      "Request for URL http://ergast.com/api/f1/2024/4/results.json failed; using cached response\n",
      "Traceback (most recent call last):\n",
      "  File \"C:\\Users\\tuffe\\anaconda3\\Lib\\site-packages\\requests_cache\\session.py\", line 290, in _resend\n",
      "    response.raise_for_status()\n",
      "  File \"C:\\Users\\tuffe\\anaconda3\\Lib\\site-packages\\requests\\models.py\", line 1021, in raise_for_status\n",
      "    raise HTTPError(http_error_msg, response=self)\n",
      "requests.exceptions.HTTPError: 503 Server Error: Backend fetch failed for url: http://ergast.com/api/f1/2024/4/results.json\n"
     ]
    },
    {
     "name": "stdout",
     "output_type": "stream",
     "text": [
      "Time to Load Data: 0:09:33.663033\n",
      "2024:Suzuka:FP3\n"
     ]
    },
    {
     "name": "stderr",
     "output_type": "stream",
     "text": [
      "Request for URL http://ergast.com/api/f1/2024/4/qualifying.json failed; using cached response\n",
      "Traceback (most recent call last):\n",
      "  File \"C:\\Users\\tuffe\\anaconda3\\Lib\\site-packages\\requests_cache\\session.py\", line 290, in _resend\n",
      "    response.raise_for_status()\n",
      "  File \"C:\\Users\\tuffe\\anaconda3\\Lib\\site-packages\\requests\\models.py\", line 1021, in raise_for_status\n",
      "    raise HTTPError(http_error_msg, response=self)\n",
      "requests.exceptions.HTTPError: 503 Server Error: Backend fetch failed for url: http://ergast.com/api/f1/2024/4/qualifying.json\n"
     ]
    },
    {
     "name": "stdout",
     "output_type": "stream",
     "text": [
      "Time to Load Data: 0:16:13.183366\n",
      "2024:Suzuka:Q\n"
     ]
    },
    {
     "name": "stderr",
     "output_type": "stream",
     "text": [
      "Request for URL http://ergast.com/api/f1/2024/4/results.json failed; using cached response\n",
      "Traceback (most recent call last):\n",
      "  File \"C:\\Users\\tuffe\\anaconda3\\Lib\\site-packages\\requests_cache\\session.py\", line 290, in _resend\n",
      "    response.raise_for_status()\n",
      "  File \"C:\\Users\\tuffe\\anaconda3\\Lib\\site-packages\\requests\\models.py\", line 1021, in raise_for_status\n",
      "    raise HTTPError(http_error_msg, response=self)\n",
      "requests.exceptions.HTTPError: 503 Server Error: Backend fetch failed for url: http://ergast.com/api/f1/2024/4/results.json\n",
      "Request for URL http://ergast.com/api/f1/2024/4/laps/1.json failed; using cached response\n",
      "Traceback (most recent call last):\n",
      "  File \"C:\\Users\\tuffe\\anaconda3\\Lib\\site-packages\\requests_cache\\session.py\", line 290, in _resend\n",
      "    response.raise_for_status()\n",
      "  File \"C:\\Users\\tuffe\\anaconda3\\Lib\\site-packages\\requests\\models.py\", line 1021, in raise_for_status\n",
      "    raise HTTPError(http_error_msg, response=self)\n",
      "requests.exceptions.HTTPError: 503 Server Error: Backend fetch failed for url: http://ergast.com/api/f1/2024/4/laps/1.json\n"
     ]
    },
    {
     "name": "stdout",
     "output_type": "stream",
     "text": [
      "Time to Load Data: 0:22:09.977233\n",
      "2024:Suzuka:R\n"
     ]
    },
    {
     "name": "stderr",
     "output_type": "stream",
     "text": [
      "C:\\Users\\tuffe\\anaconda3\\Lib\\site-packages\\fastf1\\core.py:3063: FutureWarning: In the future, `None` will be returned instead of an empty `Lap` object when there are no laps that satisfy the definition for fastest lap.\n",
      "  warnings.warn((\"In the future, `None` will be returned instead of \"\n",
      "C:\\Users\\tuffe\\anaconda3\\Lib\\site-packages\\fastf1\\core.py:3063: FutureWarning: In the future, `None` will be returned instead of an empty `Lap` object when there are no laps that satisfy the definition for fastest lap.\n",
      "  warnings.warn((\"In the future, `None` will be returned instead of \"\n",
      "Request for URL http://ergast.com/api/f1/2024/5/results.json failed; using cached response\n",
      "Traceback (most recent call last):\n",
      "  File \"C:\\Users\\tuffe\\anaconda3\\Lib\\site-packages\\requests_cache\\session.py\", line 290, in _resend\n",
      "    response.raise_for_status()\n",
      "  File \"C:\\Users\\tuffe\\anaconda3\\Lib\\site-packages\\requests\\models.py\", line 1021, in raise_for_status\n",
      "    raise HTTPError(http_error_msg, response=self)\n",
      "requests.exceptions.HTTPError: 503 Server Error: Backend fetch failed for url: http://ergast.com/api/f1/2024/5/results.json\n"
     ]
    },
    {
     "name": "stdout",
     "output_type": "stream",
     "text": [
      "Time to Load Data: 0:01:04.671956\n",
      "2024:Shanghai:FP1\n",
      "Time to Load Data: 0:06:36.093790\n",
      "2024:Shanghai:SQ\n"
     ]
    },
    {
     "name": "stderr",
     "output_type": "stream",
     "text": [
      "Request for URL http://ergast.com/api/f1/2024/5/sprint.json failed; using cached response\n",
      "Traceback (most recent call last):\n",
      "  File \"C:\\Users\\tuffe\\anaconda3\\Lib\\site-packages\\requests_cache\\session.py\", line 290, in _resend\n",
      "    response.raise_for_status()\n",
      "  File \"C:\\Users\\tuffe\\anaconda3\\Lib\\site-packages\\requests\\models.py\", line 1021, in raise_for_status\n",
      "    raise HTTPError(http_error_msg, response=self)\n",
      "requests.exceptions.HTTPError: 503 Server Error: Backend fetch failed for url: http://ergast.com/api/f1/2024/5/sprint.json\n"
     ]
    },
    {
     "name": "stdout",
     "output_type": "stream",
     "text": [
      "Time to Load Data: 0:12:12.818753\n",
      "2024:Shanghai:S\n"
     ]
    },
    {
     "name": "stderr",
     "output_type": "stream",
     "text": [
      "Request for URL http://ergast.com/api/f1/2024/5/qualifying.json failed; using cached response\n",
      "Traceback (most recent call last):\n",
      "  File \"C:\\Users\\tuffe\\anaconda3\\Lib\\site-packages\\requests_cache\\session.py\", line 290, in _resend\n",
      "    response.raise_for_status()\n",
      "  File \"C:\\Users\\tuffe\\anaconda3\\Lib\\site-packages\\requests\\models.py\", line 1021, in raise_for_status\n",
      "    raise HTTPError(http_error_msg, response=self)\n",
      "requests.exceptions.HTTPError: 503 Server Error: Backend fetch failed for url: http://ergast.com/api/f1/2024/5/qualifying.json\n"
     ]
    },
    {
     "name": "stdout",
     "output_type": "stream",
     "text": [
      "Time to Load Data: 0:18:56.447397\n",
      "2024:Shanghai:Q\n"
     ]
    },
    {
     "name": "stderr",
     "output_type": "stream",
     "text": [
      "Request for URL http://ergast.com/api/f1/2024/5/results.json failed; using cached response\n",
      "Traceback (most recent call last):\n",
      "  File \"C:\\Users\\tuffe\\anaconda3\\Lib\\site-packages\\requests_cache\\session.py\", line 290, in _resend\n",
      "    response.raise_for_status()\n",
      "  File \"C:\\Users\\tuffe\\anaconda3\\Lib\\site-packages\\requests\\models.py\", line 1021, in raise_for_status\n",
      "    raise HTTPError(http_error_msg, response=self)\n",
      "requests.exceptions.HTTPError: 503 Server Error: Backend fetch failed for url: http://ergast.com/api/f1/2024/5/results.json\n",
      "Request for URL http://ergast.com/api/f1/2024/5/laps/1.json failed; using cached response\n",
      "Traceback (most recent call last):\n",
      "  File \"C:\\Users\\tuffe\\anaconda3\\Lib\\site-packages\\requests_cache\\session.py\", line 290, in _resend\n",
      "    response.raise_for_status()\n",
      "  File \"C:\\Users\\tuffe\\anaconda3\\Lib\\site-packages\\requests\\models.py\", line 1021, in raise_for_status\n",
      "    raise HTTPError(http_error_msg, response=self)\n",
      "requests.exceptions.HTTPError: 503 Server Error: Backend fetch failed for url: http://ergast.com/api/f1/2024/5/laps/1.json\n"
     ]
    },
    {
     "name": "stdout",
     "output_type": "stream",
     "text": [
      "Time to Load Data: 0:24:42.934811\n",
      "2024:Shanghai:R\n"
     ]
    },
    {
     "name": "stderr",
     "output_type": "stream",
     "text": [
      "Request for URL http://ergast.com/api/f1/2024/6/results.json failed; using cached response\n",
      "Traceback (most recent call last):\n",
      "  File \"C:\\Users\\tuffe\\anaconda3\\Lib\\site-packages\\requests_cache\\session.py\", line 290, in _resend\n",
      "    response.raise_for_status()\n",
      "  File \"C:\\Users\\tuffe\\anaconda3\\Lib\\site-packages\\requests\\models.py\", line 1021, in raise_for_status\n",
      "    raise HTTPError(http_error_msg, response=self)\n",
      "requests.exceptions.HTTPError: 503 Server Error: Backend fetch failed for url: http://ergast.com/api/f1/2024/6/results.json\n"
     ]
    },
    {
     "name": "stdout",
     "output_type": "stream",
     "text": [
      "Time to Load Data: 0:01:05.280764\n",
      "2024:Miami:FP1\n"
     ]
    },
    {
     "name": "stderr",
     "output_type": "stream",
     "text": [
      "Request for URL http://ergast.com/api/f1/2024/6/sprint.json failed; using cached response\n",
      "Traceback (most recent call last):\n",
      "  File \"C:\\Users\\tuffe\\anaconda3\\Lib\\site-packages\\requests_cache\\session.py\", line 290, in _resend\n",
      "    response.raise_for_status()\n",
      "  File \"C:\\Users\\tuffe\\anaconda3\\Lib\\site-packages\\requests\\models.py\", line 1021, in raise_for_status\n",
      "    raise HTTPError(http_error_msg, response=self)\n",
      "requests.exceptions.HTTPError: 503 Server Error: Backend fetch failed for url: http://ergast.com/api/f1/2024/6/sprint.json\n"
     ]
    },
    {
     "name": "stdout",
     "output_type": "stream",
     "text": [
      "Time to Load Data: 0:08:14.988265\n",
      "2024:Miami:SQ\n"
     ]
    },
    {
     "name": "stderr",
     "output_type": "stream",
     "text": [
      "C:\\Users\\tuffe\\anaconda3\\Lib\\site-packages\\fastf1\\core.py:3063: FutureWarning: In the future, `None` will be returned instead of an empty `Lap` object when there are no laps that satisfy the definition for fastest lap.\n",
      "  warnings.warn((\"In the future, `None` will be returned instead of \"\n",
      "C:\\Users\\tuffe\\anaconda3\\Lib\\site-packages\\fastf1\\core.py:3063: FutureWarning: In the future, `None` will be returned instead of an empty `Lap` object when there are no laps that satisfy the definition for fastest lap.\n",
      "  warnings.warn((\"In the future, `None` will be returned instead of \"\n",
      "Request for URL http://ergast.com/api/f1/2024/6/sprint.json failed; using cached response\n",
      "Traceback (most recent call last):\n",
      "  File \"C:\\Users\\tuffe\\anaconda3\\Lib\\site-packages\\requests_cache\\session.py\", line 290, in _resend\n",
      "    response.raise_for_status()\n",
      "  File \"C:\\Users\\tuffe\\anaconda3\\Lib\\site-packages\\requests\\models.py\", line 1021, in raise_for_status\n",
      "    raise HTTPError(http_error_msg, response=self)\n",
      "requests.exceptions.HTTPError: 503 Server Error: Backend fetch failed for url: http://ergast.com/api/f1/2024/6/sprint.json\n"
     ]
    },
    {
     "name": "stdout",
     "output_type": "stream",
     "text": [
      "Time to Load Data: 0:14:54.589859\n",
      "2024:Miami:S\n"
     ]
    },
    {
     "name": "stderr",
     "output_type": "stream",
     "text": [
      "C:\\Users\\tuffe\\anaconda3\\Lib\\site-packages\\fastf1\\core.py:3063: FutureWarning: In the future, `None` will be returned instead of an empty `Lap` object when there are no laps that satisfy the definition for fastest lap.\n",
      "  warnings.warn((\"In the future, `None` will be returned instead of \"\n",
      "C:\\Users\\tuffe\\anaconda3\\Lib\\site-packages\\fastf1\\core.py:3063: FutureWarning: In the future, `None` will be returned instead of an empty `Lap` object when there are no laps that satisfy the definition for fastest lap.\n",
      "  warnings.warn((\"In the future, `None` will be returned instead of \"\n",
      "Request for URL http://ergast.com/api/f1/2024/6/qualifying.json failed; using cached response\n",
      "Traceback (most recent call last):\n",
      "  File \"C:\\Users\\tuffe\\anaconda3\\Lib\\site-packages\\requests_cache\\session.py\", line 290, in _resend\n",
      "    response.raise_for_status()\n",
      "  File \"C:\\Users\\tuffe\\anaconda3\\Lib\\site-packages\\requests\\models.py\", line 1021, in raise_for_status\n",
      "    raise HTTPError(http_error_msg, response=self)\n",
      "requests.exceptions.HTTPError: 503 Server Error: Backend fetch failed for url: http://ergast.com/api/f1/2024/6/qualifying.json\n"
     ]
    },
    {
     "name": "stdout",
     "output_type": "stream",
     "text": [
      "Time to Load Data: 0:21:37.381965\n",
      "2024:Miami:Q\n"
     ]
    },
    {
     "name": "stderr",
     "output_type": "stream",
     "text": [
      "Request for URL http://ergast.com/api/f1/2024/6/results.json failed; using cached response\n",
      "Traceback (most recent call last):\n",
      "  File \"C:\\Users\\tuffe\\anaconda3\\Lib\\site-packages\\requests_cache\\session.py\", line 290, in _resend\n",
      "    response.raise_for_status()\n",
      "  File \"C:\\Users\\tuffe\\anaconda3\\Lib\\site-packages\\requests\\models.py\", line 1021, in raise_for_status\n",
      "    raise HTTPError(http_error_msg, response=self)\n",
      "requests.exceptions.HTTPError: 503 Server Error: Backend fetch failed for url: http://ergast.com/api/f1/2024/6/results.json\n",
      "Request for URL http://ergast.com/api/f1/2024/6/laps/1.json failed; using cached response\n",
      "Traceback (most recent call last):\n",
      "  File \"C:\\Users\\tuffe\\anaconda3\\Lib\\site-packages\\requests_cache\\session.py\", line 290, in _resend\n",
      "    response.raise_for_status()\n",
      "  File \"C:\\Users\\tuffe\\anaconda3\\Lib\\site-packages\\requests\\models.py\", line 1021, in raise_for_status\n",
      "    raise HTTPError(http_error_msg, response=self)\n",
      "requests.exceptions.HTTPError: 503 Server Error: Backend fetch failed for url: http://ergast.com/api/f1/2024/6/laps/1.json\n"
     ]
    },
    {
     "name": "stdout",
     "output_type": "stream",
     "text": [
      "Time to Load Data: 0:28:28.418064\n",
      "2024:Miami:R\n"
     ]
    },
    {
     "name": "stderr",
     "output_type": "stream",
     "text": [
      "Request for URL http://ergast.com/api/f1/2024/7/results.json failed; using cached response\n",
      "Traceback (most recent call last):\n",
      "  File \"C:\\Users\\tuffe\\anaconda3\\Lib\\site-packages\\requests_cache\\session.py\", line 290, in _resend\n",
      "    response.raise_for_status()\n",
      "  File \"C:\\Users\\tuffe\\anaconda3\\Lib\\site-packages\\requests\\models.py\", line 1021, in raise_for_status\n",
      "    raise HTTPError(http_error_msg, response=self)\n",
      "requests.exceptions.HTTPError: 503 Server Error: Backend fetch failed for url: http://ergast.com/api/f1/2024/7/results.json\n"
     ]
    },
    {
     "name": "stdout",
     "output_type": "stream",
     "text": [
      "Time to Load Data: 0:01:08.011023\n",
      "2024:Imola:FP1\n"
     ]
    },
    {
     "name": "stderr",
     "output_type": "stream",
     "text": [
      "Request for URL http://ergast.com/api/f1/2024/7/results.json failed; using cached response\n",
      "Traceback (most recent call last):\n",
      "  File \"C:\\Users\\tuffe\\anaconda3\\Lib\\site-packages\\requests_cache\\session.py\", line 290, in _resend\n",
      "    response.raise_for_status()\n",
      "  File \"C:\\Users\\tuffe\\anaconda3\\Lib\\site-packages\\requests\\models.py\", line 1021, in raise_for_status\n",
      "    raise HTTPError(http_error_msg, response=self)\n",
      "requests.exceptions.HTTPError: 504 Server Error: Gateway Timeout for url: http://ergast.com/api/f1/2024/7/results.json\n"
     ]
    },
    {
     "name": "stdout",
     "output_type": "stream",
     "text": [
      "Time to Load Data: 0:08:02.697483\n",
      "2024:Imola:FP2\n"
     ]
    },
    {
     "name": "stderr",
     "output_type": "stream",
     "text": [
      "Request for URL http://ergast.com/api/f1/2024/7/results.json failed; using cached response\n",
      "Traceback (most recent call last):\n",
      "  File \"C:\\Users\\tuffe\\anaconda3\\Lib\\site-packages\\requests_cache\\session.py\", line 290, in _resend\n",
      "    response.raise_for_status()\n",
      "  File \"C:\\Users\\tuffe\\anaconda3\\Lib\\site-packages\\requests\\models.py\", line 1021, in raise_for_status\n",
      "    raise HTTPError(http_error_msg, response=self)\n",
      "requests.exceptions.HTTPError: 503 Server Error: Backend fetch failed for url: http://ergast.com/api/f1/2024/7/results.json\n"
     ]
    },
    {
     "name": "stdout",
     "output_type": "stream",
     "text": [
      "Time to Load Data: 0:14:21.554493\n",
      "2024:Imola:FP3\n"
     ]
    },
    {
     "name": "stderr",
     "output_type": "stream",
     "text": [
      "Request for URL http://ergast.com/api/f1/2024/7/qualifying.json failed; using cached response\n",
      "Traceback (most recent call last):\n",
      "  File \"C:\\Users\\tuffe\\anaconda3\\Lib\\site-packages\\requests_cache\\session.py\", line 290, in _resend\n",
      "    response.raise_for_status()\n",
      "  File \"C:\\Users\\tuffe\\anaconda3\\Lib\\site-packages\\requests\\models.py\", line 1021, in raise_for_status\n",
      "    raise HTTPError(http_error_msg, response=self)\n",
      "requests.exceptions.HTTPError: 503 Server Error: Backend fetch failed for url: http://ergast.com/api/f1/2024/7/qualifying.json\n"
     ]
    },
    {
     "name": "stdout",
     "output_type": "stream",
     "text": [
      "Time to Load Data: 0:21:39.644436\n",
      "2024:Imola:Q\n"
     ]
    },
    {
     "name": "stderr",
     "output_type": "stream",
     "text": [
      "C:\\Users\\tuffe\\anaconda3\\Lib\\site-packages\\fastf1\\core.py:3063: FutureWarning: In the future, `None` will be returned instead of an empty `Lap` object when there are no laps that satisfy the definition for fastest lap.\n",
      "  warnings.warn((\"In the future, `None` will be returned instead of \"\n",
      "Request for URL http://ergast.com/api/f1/2024/7/laps/1.json failed; using cached response\n",
      "Traceback (most recent call last):\n",
      "  File \"C:\\Users\\tuffe\\anaconda3\\Lib\\site-packages\\requests_cache\\session.py\", line 290, in _resend\n",
      "    response.raise_for_status()\n",
      "  File \"C:\\Users\\tuffe\\anaconda3\\Lib\\site-packages\\requests\\models.py\", line 1021, in raise_for_status\n",
      "    raise HTTPError(http_error_msg, response=self)\n",
      "requests.exceptions.HTTPError: 503 Server Error: Backend fetch failed for url: http://ergast.com/api/f1/2024/7/laps/1.json\n"
     ]
    },
    {
     "name": "stdout",
     "output_type": "stream",
     "text": [
      "Time to Load Data: 0:28:44.182040\n",
      "2024:Imola:R\n"
     ]
    },
    {
     "name": "stderr",
     "output_type": "stream",
     "text": [
      "Request for URL http://ergast.com/api/f1/2024/8/results.json failed; using cached response\n",
      "Traceback (most recent call last):\n",
      "  File \"C:\\Users\\tuffe\\anaconda3\\Lib\\site-packages\\requests_cache\\session.py\", line 290, in _resend\n",
      "    response.raise_for_status()\n",
      "  File \"C:\\Users\\tuffe\\anaconda3\\Lib\\site-packages\\requests\\models.py\", line 1021, in raise_for_status\n",
      "    raise HTTPError(http_error_msg, response=self)\n",
      "requests.exceptions.HTTPError: 503 Server Error: Backend fetch failed for url: http://ergast.com/api/f1/2024/8/results.json\n"
     ]
    },
    {
     "name": "stdout",
     "output_type": "stream",
     "text": [
      "Time to Load Data: 0:00:08.611108\n",
      "2024:Monaco:FP1\n"
     ]
    },
    {
     "name": "stderr",
     "output_type": "stream",
     "text": [
      "Request for URL http://ergast.com/api/f1/2024/8/results.json failed; using cached response\n",
      "Traceback (most recent call last):\n",
      "  File \"C:\\Users\\tuffe\\anaconda3\\Lib\\site-packages\\requests_cache\\session.py\", line 290, in _resend\n",
      "    response.raise_for_status()\n",
      "  File \"C:\\Users\\tuffe\\anaconda3\\Lib\\site-packages\\requests\\models.py\", line 1021, in raise_for_status\n",
      "    raise HTTPError(http_error_msg, response=self)\n",
      "requests.exceptions.HTTPError: 503 Server Error: Backend fetch failed for url: http://ergast.com/api/f1/2024/8/results.json\n"
     ]
    },
    {
     "name": "stdout",
     "output_type": "stream",
     "text": [
      "Time to Load Data: 0:07:31.239935\n",
      "2024:Monaco:FP2\n"
     ]
    },
    {
     "name": "stderr",
     "output_type": "stream",
     "text": [
      "Request for URL http://ergast.com/api/f1/2024/8/results.json failed; using cached response\n",
      "Traceback (most recent call last):\n",
      "  File \"C:\\Users\\tuffe\\anaconda3\\Lib\\site-packages\\requests_cache\\session.py\", line 290, in _resend\n",
      "    response.raise_for_status()\n",
      "  File \"C:\\Users\\tuffe\\anaconda3\\Lib\\site-packages\\requests\\models.py\", line 1021, in raise_for_status\n",
      "    raise HTTPError(http_error_msg, response=self)\n",
      "requests.exceptions.HTTPError: 503 Server Error: Backend fetch failed for url: http://ergast.com/api/f1/2024/8/results.json\n"
     ]
    },
    {
     "name": "stdout",
     "output_type": "stream",
     "text": [
      "Time to Load Data: 0:13:39.295789\n",
      "2024:Monaco:FP3\n"
     ]
    },
    {
     "name": "stderr",
     "output_type": "stream",
     "text": [
      "C:\\Users\\tuffe\\anaconda3\\Lib\\site-packages\\fastf1\\core.py:3063: FutureWarning: In the future, `None` will be returned instead of an empty `Lap` object when there are no laps that satisfy the definition for fastest lap.\n",
      "  warnings.warn((\"In the future, `None` will be returned instead of \"\n"
     ]
    },
    {
     "name": "stdout",
     "output_type": "stream",
     "text": [
      "Time to Load Data: 0:20:37.684206\n",
      "2024:Monaco:Q\n",
      "Session:2024:Monaco:Q Not Loaded due to an error with the API\n"
     ]
    },
    {
     "name": "stderr",
     "output_type": "stream",
     "text": [
      "Request for URL http://ergast.com/api/f1/2024/8/results.json failed; using cached response\n",
      "Traceback (most recent call last):\n",
      "  File \"C:\\Users\\tuffe\\anaconda3\\Lib\\site-packages\\requests_cache\\session.py\", line 290, in _resend\n",
      "    response.raise_for_status()\n",
      "  File \"C:\\Users\\tuffe\\anaconda3\\Lib\\site-packages\\requests\\models.py\", line 1021, in raise_for_status\n",
      "    raise HTTPError(http_error_msg, response=self)\n",
      "requests.exceptions.HTTPError: 503 Server Error: Backend fetch failed for url: http://ergast.com/api/f1/2024/8/results.json\n"
     ]
    },
    {
     "name": "stdout",
     "output_type": "stream",
     "text": [
      "Time to Load Data: 0:24:33.656408\n",
      "2024:Monaco:R\n"
     ]
    },
    {
     "name": "stderr",
     "output_type": "stream",
     "text": [
      "C:\\Users\\tuffe\\anaconda3\\Lib\\site-packages\\fastf1\\core.py:3063: FutureWarning: In the future, `None` will be returned instead of an empty `Lap` object when there are no laps that satisfy the definition for fastest lap.\n",
      "  warnings.warn((\"In the future, `None` will be returned instead of \"\n",
      "C:\\Users\\tuffe\\anaconda3\\Lib\\site-packages\\fastf1\\core.py:3063: FutureWarning: In the future, `None` will be returned instead of an empty `Lap` object when there are no laps that satisfy the definition for fastest lap.\n",
      "  warnings.warn((\"In the future, `None` will be returned instead of \"\n",
      "C:\\Users\\tuffe\\anaconda3\\Lib\\site-packages\\fastf1\\core.py:3063: FutureWarning: In the future, `None` will be returned instead of an empty `Lap` object when there are no laps that satisfy the definition for fastest lap.\n",
      "  warnings.warn((\"In the future, `None` will be returned instead of \"\n",
      "C:\\Users\\tuffe\\anaconda3\\Lib\\site-packages\\fastf1\\core.py:3063: FutureWarning: In the future, `None` will be returned instead of an empty `Lap` object when there are no laps that satisfy the definition for fastest lap.\n",
      "  warnings.warn((\"In the future, `None` will be returned instead of \"\n"
     ]
    },
    {
     "name": "stdout",
     "output_type": "stream",
     "text": [
      "Time to Load Data: 0:01:27.555392\n",
      "2024:Montréal:FP1\n"
     ]
    },
    {
     "name": "stderr",
     "output_type": "stream",
     "text": [
      "C:\\Users\\tuffe\\anaconda3\\Lib\\site-packages\\fastf1\\core.py:3063: FutureWarning: In the future, `None` will be returned instead of an empty `Lap` object when there are no laps that satisfy the definition for fastest lap.\n",
      "  warnings.warn((\"In the future, `None` will be returned instead of \"\n",
      "C:\\Users\\tuffe\\anaconda3\\Lib\\site-packages\\fastf1\\core.py:3063: FutureWarning: In the future, `None` will be returned instead of an empty `Lap` object when there are no laps that satisfy the definition for fastest lap.\n",
      "  warnings.warn((\"In the future, `None` will be returned instead of \"\n",
      "C:\\Users\\tuffe\\anaconda3\\Lib\\site-packages\\fastf1\\core.py:3063: FutureWarning: In the future, `None` will be returned instead of an empty `Lap` object when there are no laps that satisfy the definition for fastest lap.\n",
      "  warnings.warn((\"In the future, `None` will be returned instead of \"\n"
     ]
    },
    {
     "name": "stdout",
     "output_type": "stream",
     "text": [
      "Time to Load Data: 0:06:41.869595\n",
      "2024:Montréal:FP2\n",
      "Time to Load Data: 0:13:05.474442\n",
      "2024:Montréal:FP3\n",
      "Time to Load Data: 0:18:11.688734\n",
      "2024:Montréal:Q\n",
      "Time to Load Data: 0:25:08.713447\n",
      "2024:Montréal:R\n",
      "Time to Load Data: 0:01:27.257954\n",
      "2024:Barcelona:FP1\n",
      "Time to Load Data: 0:07:32.514101\n",
      "2024:Barcelona:FP2\n",
      "Time to Load Data: 0:12:52.882299\n",
      "2024:Barcelona:FP3\n",
      "Time to Load Data: 0:18:43.444695\n",
      "2024:Barcelona:Q\n",
      "Session:2024:Barcelona:Q Not Loaded due to an error with the API\n"
     ]
    },
    {
     "name": "stderr",
     "output_type": "stream",
     "text": [
      "Request for URL http://ergast.com/api/f1/2024/10/results.json failed; using cached response\n",
      "Traceback (most recent call last):\n",
      "  File \"C:\\Users\\tuffe\\anaconda3\\Lib\\site-packages\\requests_cache\\session.py\", line 290, in _resend\n",
      "    response.raise_for_status()\n",
      "  File \"C:\\Users\\tuffe\\anaconda3\\Lib\\site-packages\\requests\\models.py\", line 1021, in raise_for_status\n",
      "    raise HTTPError(http_error_msg, response=self)\n",
      "requests.exceptions.HTTPError: 503 Server Error: Backend fetch failed for url: http://ergast.com/api/f1/2024/10/results.json\n"
     ]
    },
    {
     "name": "stdout",
     "output_type": "stream",
     "text": [
      "Time to Load Data: 0:23:09.261351\n",
      "2024:Barcelona:R\n",
      "Time to Load Data: 0:00:32.595150\n",
      "2024:Spielberg:FP1\n",
      "Time to Load Data: 0:05:24.080925\n",
      "2024:Spielberg:SQ\n",
      "Time to Load Data: 0:10:03.075728\n",
      "2024:Spielberg:S\n",
      "Time to Load Data: 0:15:00.853910\n",
      "2024:Spielberg:Q\n",
      "Time to Load Data: 0:20:38.162378\n",
      "2024:Spielberg:R\n",
      "Time to Load Data: 0:01:29.604062\n",
      "2024:Silverstone:FP1\n",
      "Time to Load Data: 0:07:52.155460\n",
      "2024:Silverstone:FP2\n"
     ]
    },
    {
     "name": "stderr",
     "output_type": "stream",
     "text": [
      "Request for URL http://ergast.com/api/f1/2024/12/results.json failed; using cached response\n",
      "Traceback (most recent call last):\n",
      "  File \"C:\\Users\\tuffe\\anaconda3\\Lib\\site-packages\\requests_cache\\session.py\", line 290, in _resend\n",
      "    response.raise_for_status()\n",
      "  File \"C:\\Users\\tuffe\\anaconda3\\Lib\\site-packages\\requests\\models.py\", line 1021, in raise_for_status\n",
      "    raise HTTPError(http_error_msg, response=self)\n",
      "requests.exceptions.HTTPError: 503 Server Error: Backend fetch failed for url: http://ergast.com/api/f1/2024/12/results.json\n"
     ]
    },
    {
     "name": "stdout",
     "output_type": "stream",
     "text": [
      "Time to Load Data: 0:14:27.348536\n",
      "2024:Silverstone:FP3\n"
     ]
    },
    {
     "name": "stderr",
     "output_type": "stream",
     "text": [
      "C:\\Users\\tuffe\\anaconda3\\Lib\\site-packages\\fastf1\\core.py:3063: FutureWarning: In the future, `None` will be returned instead of an empty `Lap` object when there are no laps that satisfy the definition for fastest lap.\n",
      "  warnings.warn((\"In the future, `None` will be returned instead of \"\n"
     ]
    },
    {
     "name": "stdout",
     "output_type": "stream",
     "text": [
      "Time to Load Data: 0:21:27.587533\n",
      "2024:Silverstone:Q\n"
     ]
    },
    {
     "name": "stderr",
     "output_type": "stream",
     "text": [
      "Request for URL http://ergast.com/api/f1/2024/12/results.json failed; using cached response\n",
      "Traceback (most recent call last):\n",
      "  File \"C:\\Users\\tuffe\\anaconda3\\Lib\\site-packages\\requests_cache\\session.py\", line 290, in _resend\n",
      "    response.raise_for_status()\n",
      "  File \"C:\\Users\\tuffe\\anaconda3\\Lib\\site-packages\\requests\\models.py\", line 1021, in raise_for_status\n",
      "    raise HTTPError(http_error_msg, response=self)\n",
      "requests.exceptions.HTTPError: 503 Server Error: Backend fetch failed for url: http://ergast.com/api/f1/2024/12/results.json\n"
     ]
    },
    {
     "name": "stdout",
     "output_type": "stream",
     "text": [
      "Time to Load Data: 0:29:38.788915\n",
      "2024:Silverstone:R\n"
     ]
    },
    {
     "name": "stderr",
     "output_type": "stream",
     "text": [
      "C:\\Users\\tuffe\\anaconda3\\Lib\\site-packages\\fastf1\\core.py:3063: FutureWarning: In the future, `None` will be returned instead of an empty `Lap` object when there are no laps that satisfy the definition for fastest lap.\n",
      "  warnings.warn((\"In the future, `None` will be returned instead of \"\n"
     ]
    },
    {
     "name": "stdout",
     "output_type": "stream",
     "text": [
      "Time to Load Data: 0:01:26.952502\n",
      "2024:Budapest:FP1\n",
      "Time to Load Data: 0:07:11.356508\n",
      "2024:Budapest:FP2\n",
      "Time to Load Data: 0:14:12.513498\n",
      "2024:Budapest:FP3\n",
      "Time to Load Data: 0:20:02.654821\n",
      "2024:Budapest:Q\n",
      "Time to Load Data: 0:27:50.014083\n",
      "2024:Budapest:R\n",
      "Time to Load Data: 0:01:27.352759\n",
      "2024:Spa-Francorchamps:FP1\n"
     ]
    },
    {
     "name": "stderr",
     "output_type": "stream",
     "text": [
      "C:\\Users\\tuffe\\anaconda3\\Lib\\site-packages\\fastf1\\core.py:3063: FutureWarning: In the future, `None` will be returned instead of an empty `Lap` object when there are no laps that satisfy the definition for fastest lap.\n",
      "  warnings.warn((\"In the future, `None` will be returned instead of \"\n"
     ]
    },
    {
     "name": "stdout",
     "output_type": "stream",
     "text": [
      "Time to Load Data: 0:08:03.593991\n",
      "2024:Spa-Francorchamps:FP2\n",
      "Time to Load Data: 0:15:58.833156\n",
      "2024:Spa-Francorchamps:FP3\n"
     ]
    },
    {
     "name": "stderr",
     "output_type": "stream",
     "text": [
      "C:\\Users\\tuffe\\anaconda3\\Lib\\site-packages\\fastf1\\core.py:3063: FutureWarning: In the future, `None` will be returned instead of an empty `Lap` object when there are no laps that satisfy the definition for fastest lap.\n",
      "  warnings.warn((\"In the future, `None` will be returned instead of \"\n",
      "C:\\Users\\tuffe\\anaconda3\\Lib\\site-packages\\fastf1\\core.py:3063: FutureWarning: In the future, `None` will be returned instead of an empty `Lap` object when there are no laps that satisfy the definition for fastest lap.\n",
      "  warnings.warn((\"In the future, `None` will be returned instead of \"\n"
     ]
    },
    {
     "name": "stdout",
     "output_type": "stream",
     "text": [
      "Time to Load Data: 0:21:49.090990\n",
      "2024:Spa-Francorchamps:Q\n",
      "Time to Load Data: 0:30:03.031573\n",
      "2024:Spa-Francorchamps:R\n",
      "data.load Key Error (2024:Zandvoort:FP1)\n",
      "data.load Key Error (2024:Zandvoort:FP2)\n",
      "data.load Key Error (2024:Zandvoort:FP3)\n",
      "data.load Key Error (2024:Zandvoort:Q)\n",
      "data.load Key Error (2024:Zandvoort:R)\n",
      "data.load Key Error (2024:Monza:FP1)\n",
      "data.load Key Error (2024:Monza:FP2)\n",
      "data.load Key Error (2024:Monza:FP3)\n",
      "data.load Key Error (2024:Monza:Q)\n",
      "data.load Key Error (2024:Monza:R)\n",
      "data.load Key Error (2024:Baku:FP1)\n",
      "data.load Key Error (2024:Baku:FP2)\n",
      "data.load Key Error (2024:Baku:FP3)\n",
      "data.load Key Error (2024:Baku:Q)\n",
      "data.load Key Error (2024:Baku:R)\n",
      "data.load Key Error (2024:Marina Bay:FP1)\n",
      "data.load Key Error (2024:Marina Bay:FP2)\n",
      "data.load Key Error (2024:Marina Bay:FP3)\n",
      "data.load Key Error (2024:Marina Bay:Q)\n",
      "data.load Key Error (2024:Marina Bay:R)\n",
      "data.load Key Error (2024:Austin:FP1)\n",
      "data.load Key Error (2024:Austin:SQ)\n",
      "data.load Key Error (2024:Austin:S)\n",
      "data.load Key Error (2024:Austin:Q)\n",
      "data.load Key Error (2024:Austin:R)\n",
      "data.load Key Error (2024:Mexico City:FP1)\n",
      "data.load Key Error (2024:Mexico City:FP2)\n",
      "data.load Key Error (2024:Mexico City:FP3)\n",
      "data.load Key Error (2024:Mexico City:Q)\n",
      "data.load Key Error (2024:Mexico City:R)\n",
      "data.load Key Error (2024:São Paulo:FP1)\n",
      "data.load Key Error (2024:São Paulo:SQ)\n",
      "data.load Key Error (2024:São Paulo:S)\n",
      "data.load Key Error (2024:São Paulo:Q)\n",
      "data.load Key Error (2024:São Paulo:R)\n",
      "data.load Key Error (2024:Las Vegas:FP1)\n",
      "data.load Key Error (2024:Las Vegas:FP2)\n",
      "data.load Key Error (2024:Las Vegas:FP3)\n",
      "data.load Key Error (2024:Las Vegas:Q)\n",
      "data.load Key Error (2024:Las Vegas:R)\n",
      "data.load Key Error (2024:Lusail:FP1)\n",
      "data.load Key Error (2024:Lusail:SQ)\n",
      "data.load Key Error (2024:Lusail:S)\n",
      "data.load Key Error (2024:Lusail:Q)\n",
      "data.load Key Error (2024:Lusail:R)\n",
      "data.load Key Error (2024:Yas Island:FP1)\n",
      "data.load Key Error (2024:Yas Island:FP2)\n",
      "data.load Key Error (2024:Yas Island:FP3)\n",
      "data.load Key Error (2024:Yas Island:Q)\n",
      "data.load Key Error (2024:Yas Island:R)\n"
     ]
    },
    {
     "data": {
      "text/html": [
       "<div>\n",
       "<style scoped>\n",
       "    .dataframe tbody tr th:only-of-type {\n",
       "        vertical-align: middle;\n",
       "    }\n",
       "\n",
       "    .dataframe tbody tr th {\n",
       "        vertical-align: top;\n",
       "    }\n",
       "\n",
       "    .dataframe thead th {\n",
       "        text-align: right;\n",
       "    }\n",
       "</style>\n",
       "<table border=\"1\" class=\"dataframe\">\n",
       "  <thead>\n",
       "    <tr style=\"text-align: right;\">\n",
       "      <th></th>\n",
       "      <th>Driver</th>\n",
       "      <th>Team</th>\n",
       "      <th>Circuit</th>\n",
       "      <th>Corner Number</th>\n",
       "      <th>Session</th>\n",
       "      <th>Speed</th>\n",
       "      <th>Gear</th>\n",
       "      <th>RPM</th>\n",
       "      <th>Throttle %</th>\n",
       "      <th>Brake</th>\n",
       "      <th>DRS</th>\n",
       "      <th>Stint</th>\n",
       "      <th>Top Speed</th>\n",
       "      <th>Tyre Compound</th>\n",
       "      <th>Fresh Tyre</th>\n",
       "      <th>Tyre Life</th>\n",
       "      <th>Track Status</th>\n",
       "      <th>Distance to Driver Ahead</th>\n",
       "    </tr>\n",
       "  </thead>\n",
       "  <tbody>\n",
       "    <tr>\n",
       "      <th>0</th>\n",
       "      <td>VER</td>\n",
       "      <td>Red Bull Racing</td>\n",
       "      <td>Sakhir</td>\n",
       "      <td>1</td>\n",
       "      <td>FP1</td>\n",
       "      <td>92</td>\n",
       "      <td>2</td>\n",
       "      <td>7784</td>\n",
       "      <td>0</td>\n",
       "      <td>True</td>\n",
       "      <td>8</td>\n",
       "      <td>3.0</td>\n",
       "      <td>317.0</td>\n",
       "      <td>SOFT</td>\n",
       "      <td>True</td>\n",
       "      <td>2.0</td>\n",
       "      <td>1</td>\n",
       "      <td>372.814444</td>\n",
       "    </tr>\n",
       "    <tr>\n",
       "      <th>1</th>\n",
       "      <td>VER</td>\n",
       "      <td>Red Bull Racing</td>\n",
       "      <td>Sakhir</td>\n",
       "      <td>2</td>\n",
       "      <td>FP1</td>\n",
       "      <td>147</td>\n",
       "      <td>3</td>\n",
       "      <td>11253</td>\n",
       "      <td>83</td>\n",
       "      <td>False</td>\n",
       "      <td>8</td>\n",
       "      <td>3.0</td>\n",
       "      <td>317.0</td>\n",
       "      <td>SOFT</td>\n",
       "      <td>True</td>\n",
       "      <td>2.0</td>\n",
       "      <td>1</td>\n",
       "      <td>575.992222</td>\n",
       "    </tr>\n",
       "    <tr>\n",
       "      <th>2</th>\n",
       "      <td>VER</td>\n",
       "      <td>Red Bull Racing</td>\n",
       "      <td>Sakhir</td>\n",
       "      <td>3</td>\n",
       "      <td>FP1</td>\n",
       "      <td>212</td>\n",
       "      <td>5</td>\n",
       "      <td>11024</td>\n",
       "      <td>100</td>\n",
       "      <td>False</td>\n",
       "      <td>8</td>\n",
       "      <td>3.0</td>\n",
       "      <td>317.0</td>\n",
       "      <td>SOFT</td>\n",
       "      <td>True</td>\n",
       "      <td>2.0</td>\n",
       "      <td>1</td>\n",
       "      <td>578.286667</td>\n",
       "    </tr>\n",
       "    <tr>\n",
       "      <th>3</th>\n",
       "      <td>VER</td>\n",
       "      <td>Red Bull Racing</td>\n",
       "      <td>Sakhir</td>\n",
       "      <td>4</td>\n",
       "      <td>FP1</td>\n",
       "      <td>131</td>\n",
       "      <td>4</td>\n",
       "      <td>7435</td>\n",
       "      <td>0</td>\n",
       "      <td>False</td>\n",
       "      <td>8</td>\n",
       "      <td>3.0</td>\n",
       "      <td>317.0</td>\n",
       "      <td>SOFT</td>\n",
       "      <td>True</td>\n",
       "      <td>2.0</td>\n",
       "      <td>1</td>\n",
       "      <td>419.933889</td>\n",
       "    </tr>\n",
       "    <tr>\n",
       "      <th>4</th>\n",
       "      <td>VER</td>\n",
       "      <td>Red Bull Racing</td>\n",
       "      <td>Sakhir</td>\n",
       "      <td>5</td>\n",
       "      <td>FP1</td>\n",
       "      <td>250</td>\n",
       "      <td>6</td>\n",
       "      <td>11215</td>\n",
       "      <td>100</td>\n",
       "      <td>False</td>\n",
       "      <td>8</td>\n",
       "      <td>3.0</td>\n",
       "      <td>317.0</td>\n",
       "      <td>SOFT</td>\n",
       "      <td>True</td>\n",
       "      <td>2.0</td>\n",
       "      <td>1</td>\n",
       "      <td>429.219722</td>\n",
       "    </tr>\n",
       "    <tr>\n",
       "      <th>...</th>\n",
       "      <td>...</td>\n",
       "      <td>...</td>\n",
       "      <td>...</td>\n",
       "      <td>...</td>\n",
       "      <td>...</td>\n",
       "      <td>...</td>\n",
       "      <td>...</td>\n",
       "      <td>...</td>\n",
       "      <td>...</td>\n",
       "      <td>...</td>\n",
       "      <td>...</td>\n",
       "      <td>...</td>\n",
       "      <td>...</td>\n",
       "      <td>...</td>\n",
       "      <td>...</td>\n",
       "      <td>...</td>\n",
       "      <td>...</td>\n",
       "      <td>...</td>\n",
       "    </tr>\n",
       "    <tr>\n",
       "      <th>58453</th>\n",
       "      <td>TSU</td>\n",
       "      <td>RB</td>\n",
       "      <td>Spa-Francorchamps</td>\n",
       "      <td>15</td>\n",
       "      <td>R</td>\n",
       "      <td>258</td>\n",
       "      <td>6</td>\n",
       "      <td>11513</td>\n",
       "      <td>100</td>\n",
       "      <td>False</td>\n",
       "      <td>0</td>\n",
       "      <td>2.0</td>\n",
       "      <td>313.0</td>\n",
       "      <td>HARD</td>\n",
       "      <td>False</td>\n",
       "      <td>30.0</td>\n",
       "      <td>1</td>\n",
       "      <td>463.925556</td>\n",
       "    </tr>\n",
       "    <tr>\n",
       "      <th>58454</th>\n",
       "      <td>TSU</td>\n",
       "      <td>RB</td>\n",
       "      <td>Spa-Francorchamps</td>\n",
       "      <td>16</td>\n",
       "      <td>R</td>\n",
       "      <td>312</td>\n",
       "      <td>8</td>\n",
       "      <td>11092</td>\n",
       "      <td>100</td>\n",
       "      <td>False</td>\n",
       "      <td>0</td>\n",
       "      <td>2.0</td>\n",
       "      <td>313.0</td>\n",
       "      <td>HARD</td>\n",
       "      <td>False</td>\n",
       "      <td>30.0</td>\n",
       "      <td>1</td>\n",
       "      <td>508.814722</td>\n",
       "    </tr>\n",
       "    <tr>\n",
       "      <th>58455</th>\n",
       "      <td>TSU</td>\n",
       "      <td>RB</td>\n",
       "      <td>Spa-Francorchamps</td>\n",
       "      <td>17</td>\n",
       "      <td>R</td>\n",
       "      <td>311</td>\n",
       "      <td>8</td>\n",
       "      <td>11071</td>\n",
       "      <td>100</td>\n",
       "      <td>False</td>\n",
       "      <td>0</td>\n",
       "      <td>2.0</td>\n",
       "      <td>313.0</td>\n",
       "      <td>HARD</td>\n",
       "      <td>False</td>\n",
       "      <td>30.0</td>\n",
       "      <td>1</td>\n",
       "      <td>473.881111</td>\n",
       "    </tr>\n",
       "    <tr>\n",
       "      <th>58456</th>\n",
       "      <td>TSU</td>\n",
       "      <td>RB</td>\n",
       "      <td>Spa-Francorchamps</td>\n",
       "      <td>18</td>\n",
       "      <td>R</td>\n",
       "      <td>92</td>\n",
       "      <td>2</td>\n",
       "      <td>7844</td>\n",
       "      <td>0</td>\n",
       "      <td>True</td>\n",
       "      <td>0</td>\n",
       "      <td>2.0</td>\n",
       "      <td>313.0</td>\n",
       "      <td>HARD</td>\n",
       "      <td>False</td>\n",
       "      <td>30.0</td>\n",
       "      <td>1</td>\n",
       "      <td>154.585833</td>\n",
       "    </tr>\n",
       "    <tr>\n",
       "      <th>58457</th>\n",
       "      <td>TSU</td>\n",
       "      <td>RB</td>\n",
       "      <td>Spa-Francorchamps</td>\n",
       "      <td>19</td>\n",
       "      <td>R</td>\n",
       "      <td>75</td>\n",
       "      <td>2</td>\n",
       "      <td>7283</td>\n",
       "      <td>30</td>\n",
       "      <td>False</td>\n",
       "      <td>0</td>\n",
       "      <td>2.0</td>\n",
       "      <td>313.0</td>\n",
       "      <td>HARD</td>\n",
       "      <td>False</td>\n",
       "      <td>30.0</td>\n",
       "      <td>1</td>\n",
       "      <td>207.019167</td>\n",
       "    </tr>\n",
       "  </tbody>\n",
       "</table>\n",
       "<p>58458 rows × 18 columns</p>\n",
       "</div>"
      ],
      "text/plain": [
       "      Driver             Team            Circuit Corner Number Session  Speed  \\\n",
       "0        VER  Red Bull Racing             Sakhir             1     FP1     92   \n",
       "1        VER  Red Bull Racing             Sakhir             2     FP1    147   \n",
       "2        VER  Red Bull Racing             Sakhir             3     FP1    212   \n",
       "3        VER  Red Bull Racing             Sakhir             4     FP1    131   \n",
       "4        VER  Red Bull Racing             Sakhir             5     FP1    250   \n",
       "...      ...              ...                ...           ...     ...    ...   \n",
       "58453    TSU               RB  Spa-Francorchamps            15       R    258   \n",
       "58454    TSU               RB  Spa-Francorchamps            16       R    312   \n",
       "58455    TSU               RB  Spa-Francorchamps            17       R    311   \n",
       "58456    TSU               RB  Spa-Francorchamps            18       R     92   \n",
       "58457    TSU               RB  Spa-Francorchamps            19       R     75   \n",
       "\n",
       "       Gear    RPM  Throttle %  Brake  DRS  Stint  Top Speed Tyre Compound  \\\n",
       "0         2   7784           0   True    8    3.0      317.0          SOFT   \n",
       "1         3  11253          83  False    8    3.0      317.0          SOFT   \n",
       "2         5  11024         100  False    8    3.0      317.0          SOFT   \n",
       "3         4   7435           0  False    8    3.0      317.0          SOFT   \n",
       "4         6  11215         100  False    8    3.0      317.0          SOFT   \n",
       "...     ...    ...         ...    ...  ...    ...        ...           ...   \n",
       "58453     6  11513         100  False    0    2.0      313.0          HARD   \n",
       "58454     8  11092         100  False    0    2.0      313.0          HARD   \n",
       "58455     8  11071         100  False    0    2.0      313.0          HARD   \n",
       "58456     2   7844           0   True    0    2.0      313.0          HARD   \n",
       "58457     2   7283          30  False    0    2.0      313.0          HARD   \n",
       "\n",
       "       Fresh Tyre  Tyre Life Track Status  Distance to Driver Ahead  \n",
       "0            True        2.0            1                372.814444  \n",
       "1            True        2.0            1                575.992222  \n",
       "2            True        2.0            1                578.286667  \n",
       "3            True        2.0            1                419.933889  \n",
       "4            True        2.0            1                429.219722  \n",
       "...           ...        ...          ...                       ...  \n",
       "58453       False       30.0            1                463.925556  \n",
       "58454       False       30.0            1                508.814722  \n",
       "58455       False       30.0            1                473.881111  \n",
       "58456       False       30.0            1                154.585833  \n",
       "58457       False       30.0            1                207.019167  \n",
       "\n",
       "[58458 rows x 18 columns]"
      ]
     },
     "execution_count": 6,
     "metadata": {},
     "output_type": "execute_result"
    }
   ],
   "source": [
    "import fastf1\n",
    "import pandas as pd\n",
    "import numpy as np\n",
    "import datetime\n",
    "\n",
    "#Ergast API's SSL certificate has expired, as the api is closing at the end of 2024 switch to http instead of https\n",
    "fastf1.ergast.interface.BASE_URL = 'http://ergast.com/api/f1'\n",
    "fastf1.logger.set_log_level(\"ERROR\")\n",
    "\n",
    "i = 0\n",
    "total_cornerdata = pd.DataFrame(columns = (\"Driver\",\"Team\",\"Circuit\",\"Corner Number\",\"Session\",\"Speed\",\"Gear\",\"RPM\",\"Throttle %\",\n",
    "                                    \"Brake\",\"DRS\",\"Stint\",\"Top Speed\",\"Tyre Compound\",\"Fresh Tyre\",\"Tyre Life\",\"Track Status\",\n",
    "                                    \"Distance to Driver Ahead\"))\n",
    "seasons = [2023,2024]\n",
    "\n",
    "for season in seasons:\n",
    "    schedule = fastf1.get_event_schedule(season)\n",
    "    for idx, event in schedule.iterrows():\n",
    "        #debug\n",
    "        startTime = datetime.datetime.now()\n",
    "        #end debug\n",
    "        if event['RoundNumber'] < 1:\n",
    "            continue\n",
    "        else:\n",
    "            if event['EventFormat'] == 'conventional':\n",
    "                rounds = [\"FP1\",\"FP2\",\"FP3\",\"Q\",\"R\"]\n",
    "                event_details = [season,event['RoundNumber'],event['Location'],rounds]                    \n",
    "            elif event['EventFormat'] == 'sprint':\n",
    "                rounds = [\"FP1\",\"Q\",\"FP2\",\"S\",\"R\"]\n",
    "                event_details = [season,event['RoundNumber'],event['Location'],rounds]\n",
    "            elif event['EventFormat'] == 'sprint_shootout':\n",
    "                rounds = [\"FP1\",\"Q\",\"SS\",\"S\",\"R\"]\n",
    "                event_details = [season,event['RoundNumber'],event['Location'],rounds]\n",
    "            elif event['EventFormat'] == 'sprint_qualifying':\n",
    "                rounds = [\"FP1\",\"SQ\",\"S\",\"Q\",\"R\"]\n",
    "                event_details = [season,event['RoundNumber'],event['Location'],rounds]\n",
    "            for round in rounds:\n",
    "                try:\n",
    "                    data = fastf1.get_session(event_details[0], event_details[1], round)\n",
    "                    data.load(telemetry=True)\n",
    "                except KeyError:\n",
    "                    print(f\"data.load Key Error ({event_details[0]}:{event_details[2]}:{round})\")\n",
    "                    continue\n",
    "                try:\n",
    "                    list_drivers = data.laps['Driver'].unique().tolist()\n",
    "                    data_circuit_info = data.get_circuit_info()\n",
    "\n",
    "                    #debug\n",
    "                    endTime = datetime.datetime.now()\n",
    "                    print(f\"Time to Load Data: {endTime-startTime}\")\n",
    "                    print(f\"{event_details[0]}:{event_details[2]}:{round}\")\n",
    "                    #end debug\n",
    "                    cornerdata_session(data,list_drivers,data_circuit_info)\n",
    "                except (fastf1.core.DataNotLoadedError, KeyError, ValueError):\n",
    "                    endTime = datetime.datetime.now()\n",
    "                    print(f\"Session:{event_details[0]}:{event_details[2]}:{round} Not Loaded due to an error with the API\")\n",
    "                    continue\n",
    "total_cornerdata"
   ]
  },
  {
   "cell_type": "code",
   "execution_count": 3,
   "id": "4fda905e",
   "metadata": {},
   "outputs": [],
   "source": [
    "def cornerdata_session(session,drivers,circuit_info):\n",
    "    global i\n",
    "    for driver in drivers:\n",
    "        #debug\n",
    "        #endTime = datetime.datetime.now()\n",
    "        #if driver != drivers[0]:\n",
    "        #    print(f\"Time to Process Last Driver: {endTime-startTime}\")\n",
    "        #print(driver)\n",
    "        #startTime = datetime.datetime.now()\n",
    "        #end debug\n",
    "        lap = session.laps.pick_driver(driver).pick_fastest()            \n",
    "        corner_index = []\n",
    "        \n",
    "        for _, corner in circuit_info.corners.iterrows():\n",
    "            dp_diff = []\n",
    "            dp_index = []\n",
    "            if corner['Number'] == 1:\n",
    "                index_index = 0\n",
    "            try:\n",
    "                for index, dp in lap.get_telemetry().add_track_status().add_driver_ahead().iterrows():\n",
    "                    #check that the index is greater than the index of the minimum distance\n",
    "                    if index_index > index:\n",
    "                        continue\n",
    "                    else:\n",
    "                        difference = abs(corner['Distance']-dp['Distance'])\n",
    "                        #check that this difference is not larger than the last difference\n",
    "                        if len(dp_diff) > 5:\n",
    "                            if difference > min(dp_diff):\n",
    "                                index_min_diff = dp_diff.index(min(dp_diff))\n",
    "                                index_index = dp_index[index_min_diff]\n",
    "                                #debug check\n",
    "                                #if lap['LapNumber'] == 2.0:\n",
    "                                #    print(index_index)\n",
    "                                #end debug\n",
    "                                break\n",
    "                            else:\n",
    "                                dp_diff.append(difference)\n",
    "                                dp_index.append(index)\n",
    "                        else:\n",
    "                            dp_diff.append(difference)\n",
    "                            dp_index.append(index)\n",
    "                try:\n",
    "                    #lap.get_telemetry().iloc[index_index]\n",
    "                    cornerdata = [driver,lap['Team'],event_details[2],f\"{corner['Number']}{corner['Letter']}\",round,dp['Speed'],\n",
    "                                  dp['nGear'],dp['RPM'],dp['Throttle'],dp['Brake'],dp['DRS'],lap['Stint'],\n",
    "                                  lap['SpeedST'],lap['Compound'],lap['FreshTyre'],lap['TyreLife'],lap['TrackStatus'],dp['DistanceToDriverAhead']]\n",
    "                    total_cornerdata.loc[i]= cornerdata\n",
    "                    i+=1\n",
    "                except IndexError:\n",
    "                    continue\n",
    "                except ValueError:\n",
    "                    continue\n",
    "            except KeyError:\n",
    "                continue"
   ]
  },
  {
   "cell_type": "code",
   "execution_count": 8,
   "id": "7d905f33",
   "metadata": {
    "scrolled": true
   },
   "outputs": [
    {
     "data": {
      "text/html": [
       "<div>\n",
       "<style scoped>\n",
       "    .dataframe tbody tr th:only-of-type {\n",
       "        vertical-align: middle;\n",
       "    }\n",
       "\n",
       "    .dataframe tbody tr th {\n",
       "        vertical-align: top;\n",
       "    }\n",
       "\n",
       "    .dataframe thead tr th {\n",
       "        text-align: left;\n",
       "    }\n",
       "\n",
       "    .dataframe thead tr:last-of-type th {\n",
       "        text-align: right;\n",
       "    }\n",
       "</style>\n",
       "<table border=\"1\" class=\"dataframe\">\n",
       "  <thead>\n",
       "    <tr>\n",
       "      <th></th>\n",
       "      <th></th>\n",
       "      <th colspan=\"8\" halign=\"left\">Speed</th>\n",
       "      <th colspan=\"2\" halign=\"left\">Gear</th>\n",
       "      <th>...</th>\n",
       "      <th colspan=\"2\" halign=\"left\">Tyre Life</th>\n",
       "      <th colspan=\"8\" halign=\"left\">Distance to Driver Ahead</th>\n",
       "    </tr>\n",
       "    <tr>\n",
       "      <th></th>\n",
       "      <th></th>\n",
       "      <th>count</th>\n",
       "      <th>mean</th>\n",
       "      <th>std</th>\n",
       "      <th>min</th>\n",
       "      <th>25%</th>\n",
       "      <th>50%</th>\n",
       "      <th>75%</th>\n",
       "      <th>max</th>\n",
       "      <th>count</th>\n",
       "      <th>mean</th>\n",
       "      <th>...</th>\n",
       "      <th>75%</th>\n",
       "      <th>max</th>\n",
       "      <th>count</th>\n",
       "      <th>mean</th>\n",
       "      <th>std</th>\n",
       "      <th>min</th>\n",
       "      <th>25%</th>\n",
       "      <th>50%</th>\n",
       "      <th>75%</th>\n",
       "      <th>max</th>\n",
       "    </tr>\n",
       "    <tr>\n",
       "      <th>Circuit</th>\n",
       "      <th>Corner Number</th>\n",
       "      <th></th>\n",
       "      <th></th>\n",
       "      <th></th>\n",
       "      <th></th>\n",
       "      <th></th>\n",
       "      <th></th>\n",
       "      <th></th>\n",
       "      <th></th>\n",
       "      <th></th>\n",
       "      <th></th>\n",
       "      <th></th>\n",
       "      <th></th>\n",
       "      <th></th>\n",
       "      <th></th>\n",
       "      <th></th>\n",
       "      <th></th>\n",
       "      <th></th>\n",
       "      <th></th>\n",
       "      <th></th>\n",
       "      <th></th>\n",
       "      <th></th>\n",
       "    </tr>\n",
       "  </thead>\n",
       "  <tbody>\n",
       "    <tr>\n",
       "      <th rowspan=\"5\" valign=\"top\">Austin</th>\n",
       "      <th>1</th>\n",
       "      <td>100.0</td>\n",
       "      <td>91.320000</td>\n",
       "      <td>6.491455</td>\n",
       "      <td>71.0</td>\n",
       "      <td>87.00</td>\n",
       "      <td>91.0</td>\n",
       "      <td>95.0</td>\n",
       "      <td>111.0</td>\n",
       "      <td>100.0</td>\n",
       "      <td>2.870000</td>\n",
       "      <td>...</td>\n",
       "      <td>9.0</td>\n",
       "      <td>26.0</td>\n",
       "      <td>95.0</td>\n",
       "      <td>535.556559</td>\n",
       "      <td>701.953068</td>\n",
       "      <td>1.423611</td>\n",
       "      <td>91.258704</td>\n",
       "      <td>298.065556</td>\n",
       "      <td>695.986806</td>\n",
       "      <td>4119.337222</td>\n",
       "    </tr>\n",
       "    <tr>\n",
       "      <th>10</th>\n",
       "      <td>100.0</td>\n",
       "      <td>250.090000</td>\n",
       "      <td>5.025380</td>\n",
       "      <td>219.0</td>\n",
       "      <td>247.75</td>\n",
       "      <td>251.0</td>\n",
       "      <td>253.0</td>\n",
       "      <td>260.0</td>\n",
       "      <td>100.0</td>\n",
       "      <td>6.180000</td>\n",
       "      <td>...</td>\n",
       "      <td>9.0</td>\n",
       "      <td>26.0</td>\n",
       "      <td>95.0</td>\n",
       "      <td>506.435997</td>\n",
       "      <td>592.955502</td>\n",
       "      <td>11.817222</td>\n",
       "      <td>204.375833</td>\n",
       "      <td>365.466667</td>\n",
       "      <td>503.189306</td>\n",
       "      <td>3929.055556</td>\n",
       "    </tr>\n",
       "    <tr>\n",
       "      <th>11</th>\n",
       "      <td>100.0</td>\n",
       "      <td>83.350000</td>\n",
       "      <td>14.297259</td>\n",
       "      <td>57.0</td>\n",
       "      <td>76.75</td>\n",
       "      <td>83.0</td>\n",
       "      <td>88.0</td>\n",
       "      <td>203.0</td>\n",
       "      <td>100.0</td>\n",
       "      <td>2.610000</td>\n",
       "      <td>...</td>\n",
       "      <td>9.0</td>\n",
       "      <td>26.0</td>\n",
       "      <td>95.0</td>\n",
       "      <td>476.230692</td>\n",
       "      <td>621.190063</td>\n",
       "      <td>6.110278</td>\n",
       "      <td>84.161667</td>\n",
       "      <td>275.846944</td>\n",
       "      <td>640.078056</td>\n",
       "      <td>3901.485833</td>\n",
       "    </tr>\n",
       "    <tr>\n",
       "      <th>12</th>\n",
       "      <td>100.0</td>\n",
       "      <td>100.220000</td>\n",
       "      <td>10.492499</td>\n",
       "      <td>79.0</td>\n",
       "      <td>92.75</td>\n",
       "      <td>100.5</td>\n",
       "      <td>106.0</td>\n",
       "      <td>130.0</td>\n",
       "      <td>100.0</td>\n",
       "      <td>2.900000</td>\n",
       "      <td>...</td>\n",
       "      <td>9.0</td>\n",
       "      <td>26.0</td>\n",
       "      <td>95.0</td>\n",
       "      <td>383.421463</td>\n",
       "      <td>590.248471</td>\n",
       "      <td>0.569722</td>\n",
       "      <td>80.982778</td>\n",
       "      <td>228.295556</td>\n",
       "      <td>421.023333</td>\n",
       "      <td>3816.394167</td>\n",
       "    </tr>\n",
       "    <tr>\n",
       "      <th>13</th>\n",
       "      <td>100.0</td>\n",
       "      <td>100.960000</td>\n",
       "      <td>10.351324</td>\n",
       "      <td>77.0</td>\n",
       "      <td>95.00</td>\n",
       "      <td>100.0</td>\n",
       "      <td>105.0</td>\n",
       "      <td>171.0</td>\n",
       "      <td>100.0</td>\n",
       "      <td>3.040000</td>\n",
       "      <td>...</td>\n",
       "      <td>9.0</td>\n",
       "      <td>26.0</td>\n",
       "      <td>95.0</td>\n",
       "      <td>415.916707</td>\n",
       "      <td>626.709015</td>\n",
       "      <td>11.817222</td>\n",
       "      <td>115.063611</td>\n",
       "      <td>242.083333</td>\n",
       "      <td>382.990278</td>\n",
       "      <td>3981.005833</td>\n",
       "    </tr>\n",
       "    <tr>\n",
       "      <th>...</th>\n",
       "      <th>...</th>\n",
       "      <td>...</td>\n",
       "      <td>...</td>\n",
       "      <td>...</td>\n",
       "      <td>...</td>\n",
       "      <td>...</td>\n",
       "      <td>...</td>\n",
       "      <td>...</td>\n",
       "      <td>...</td>\n",
       "      <td>...</td>\n",
       "      <td>...</td>\n",
       "      <td>...</td>\n",
       "      <td>...</td>\n",
       "      <td>...</td>\n",
       "      <td>...</td>\n",
       "      <td>...</td>\n",
       "      <td>...</td>\n",
       "      <td>...</td>\n",
       "      <td>...</td>\n",
       "      <td>...</td>\n",
       "      <td>...</td>\n",
       "      <td>...</td>\n",
       "    </tr>\n",
       "    <tr>\n",
       "      <th rowspan=\"5\" valign=\"top\">Zandvoort</th>\n",
       "      <th>5</th>\n",
       "      <td>98.0</td>\n",
       "      <td>272.510204</td>\n",
       "      <td>4.884744</td>\n",
       "      <td>259.0</td>\n",
       "      <td>269.00</td>\n",
       "      <td>273.0</td>\n",
       "      <td>276.0</td>\n",
       "      <td>282.0</td>\n",
       "      <td>98.0</td>\n",
       "      <td>6.897959</td>\n",
       "      <td>...</td>\n",
       "      <td>10.0</td>\n",
       "      <td>38.0</td>\n",
       "      <td>91.0</td>\n",
       "      <td>701.596263</td>\n",
       "      <td>663.335718</td>\n",
       "      <td>61.650833</td>\n",
       "      <td>320.771111</td>\n",
       "      <td>502.306944</td>\n",
       "      <td>854.261944</td>\n",
       "      <td>3885.872500</td>\n",
       "    </tr>\n",
       "    <tr>\n",
       "      <th>6</th>\n",
       "      <td>98.0</td>\n",
       "      <td>281.500000</td>\n",
       "      <td>4.550405</td>\n",
       "      <td>271.0</td>\n",
       "      <td>278.00</td>\n",
       "      <td>281.0</td>\n",
       "      <td>285.0</td>\n",
       "      <td>292.0</td>\n",
       "      <td>98.0</td>\n",
       "      <td>7.112245</td>\n",
       "      <td>...</td>\n",
       "      <td>10.0</td>\n",
       "      <td>38.0</td>\n",
       "      <td>91.0</td>\n",
       "      <td>663.775875</td>\n",
       "      <td>641.418468</td>\n",
       "      <td>63.724167</td>\n",
       "      <td>296.773056</td>\n",
       "      <td>495.640278</td>\n",
       "      <td>785.143194</td>\n",
       "      <td>3818.251389</td>\n",
       "    </tr>\n",
       "    <tr>\n",
       "      <th>7</th>\n",
       "      <td>98.0</td>\n",
       "      <td>237.285714</td>\n",
       "      <td>15.793774</td>\n",
       "      <td>198.0</td>\n",
       "      <td>225.00</td>\n",
       "      <td>240.5</td>\n",
       "      <td>251.0</td>\n",
       "      <td>267.0</td>\n",
       "      <td>98.0</td>\n",
       "      <td>6.377551</td>\n",
       "      <td>...</td>\n",
       "      <td>10.0</td>\n",
       "      <td>38.0</td>\n",
       "      <td>91.0</td>\n",
       "      <td>580.476078</td>\n",
       "      <td>616.821830</td>\n",
       "      <td>30.443611</td>\n",
       "      <td>258.145741</td>\n",
       "      <td>428.575278</td>\n",
       "      <td>639.541944</td>\n",
       "      <td>3803.940278</td>\n",
       "    </tr>\n",
       "    <tr>\n",
       "      <th>8</th>\n",
       "      <td>98.0</td>\n",
       "      <td>207.683673</td>\n",
       "      <td>18.451719</td>\n",
       "      <td>164.0</td>\n",
       "      <td>193.00</td>\n",
       "      <td>211.0</td>\n",
       "      <td>223.0</td>\n",
       "      <td>241.0</td>\n",
       "      <td>98.0</td>\n",
       "      <td>5.602041</td>\n",
       "      <td>...</td>\n",
       "      <td>10.0</td>\n",
       "      <td>38.0</td>\n",
       "      <td>91.0</td>\n",
       "      <td>492.992642</td>\n",
       "      <td>607.128289</td>\n",
       "      <td>12.025278</td>\n",
       "      <td>193.479815</td>\n",
       "      <td>307.620000</td>\n",
       "      <td>503.178889</td>\n",
       "      <td>3855.840278</td>\n",
       "    </tr>\n",
       "    <tr>\n",
       "      <th>9</th>\n",
       "      <td>98.0</td>\n",
       "      <td>119.418367</td>\n",
       "      <td>13.518161</td>\n",
       "      <td>94.0</td>\n",
       "      <td>109.00</td>\n",
       "      <td>123.0</td>\n",
       "      <td>129.0</td>\n",
       "      <td>145.0</td>\n",
       "      <td>98.0</td>\n",
       "      <td>3.397959</td>\n",
       "      <td>...</td>\n",
       "      <td>10.0</td>\n",
       "      <td>38.0</td>\n",
       "      <td>91.0</td>\n",
       "      <td>473.695607</td>\n",
       "      <td>617.168729</td>\n",
       "      <td>20.469722</td>\n",
       "      <td>154.131389</td>\n",
       "      <td>259.019722</td>\n",
       "      <td>545.435833</td>\n",
       "      <td>3929.110556</td>\n",
       "    </tr>\n",
       "  </tbody>\n",
       "</table>\n",
       "<p>403 rows × 72 columns</p>\n",
       "</div>"
      ],
      "text/plain": [
       "                         Speed                                               \\\n",
       "                         count        mean        std    min     25%    50%   \n",
       "Circuit   Corner Number                                                       \n",
       "Austin    1              100.0   91.320000   6.491455   71.0   87.00   91.0   \n",
       "          10             100.0  250.090000   5.025380  219.0  247.75  251.0   \n",
       "          11             100.0   83.350000  14.297259   57.0   76.75   83.0   \n",
       "          12             100.0  100.220000  10.492499   79.0   92.75  100.5   \n",
       "          13             100.0  100.960000  10.351324   77.0   95.00  100.0   \n",
       "...                        ...         ...        ...    ...     ...    ...   \n",
       "Zandvoort 5               98.0  272.510204   4.884744  259.0  269.00  273.0   \n",
       "          6               98.0  281.500000   4.550405  271.0  278.00  281.0   \n",
       "          7               98.0  237.285714  15.793774  198.0  225.00  240.5   \n",
       "          8               98.0  207.683673  18.451719  164.0  193.00  211.0   \n",
       "          9               98.0  119.418367  13.518161   94.0  109.00  123.0   \n",
       "\n",
       "                                        Gear            ... Tyre Life        \\\n",
       "                           75%    max  count      mean  ...       75%   max   \n",
       "Circuit   Corner Number                                 ...                   \n",
       "Austin    1               95.0  111.0  100.0  2.870000  ...       9.0  26.0   \n",
       "          10             253.0  260.0  100.0  6.180000  ...       9.0  26.0   \n",
       "          11              88.0  203.0  100.0  2.610000  ...       9.0  26.0   \n",
       "          12             106.0  130.0  100.0  2.900000  ...       9.0  26.0   \n",
       "          13             105.0  171.0  100.0  3.040000  ...       9.0  26.0   \n",
       "...                        ...    ...    ...       ...  ...       ...   ...   \n",
       "Zandvoort 5              276.0  282.0   98.0  6.897959  ...      10.0  38.0   \n",
       "          6              285.0  292.0   98.0  7.112245  ...      10.0  38.0   \n",
       "          7              251.0  267.0   98.0  6.377551  ...      10.0  38.0   \n",
       "          8              223.0  241.0   98.0  5.602041  ...      10.0  38.0   \n",
       "          9              129.0  145.0   98.0  3.397959  ...      10.0  38.0   \n",
       "\n",
       "                        Distance to Driver Ahead                          \\\n",
       "                                           count        mean         std   \n",
       "Circuit   Corner Number                                                    \n",
       "Austin    1                                 95.0  535.556559  701.953068   \n",
       "          10                                95.0  506.435997  592.955502   \n",
       "          11                                95.0  476.230692  621.190063   \n",
       "          12                                95.0  383.421463  590.248471   \n",
       "          13                                95.0  415.916707  626.709015   \n",
       "...                                          ...         ...         ...   \n",
       "Zandvoort 5                                 91.0  701.596263  663.335718   \n",
       "          6                                 91.0  663.775875  641.418468   \n",
       "          7                                 91.0  580.476078  616.821830   \n",
       "          8                                 91.0  492.992642  607.128289   \n",
       "          9                                 91.0  473.695607  617.168729   \n",
       "\n",
       "                                                                        \\\n",
       "                               min         25%         50%         75%   \n",
       "Circuit   Corner Number                                                  \n",
       "Austin    1               1.423611   91.258704  298.065556  695.986806   \n",
       "          10             11.817222  204.375833  365.466667  503.189306   \n",
       "          11              6.110278   84.161667  275.846944  640.078056   \n",
       "          12              0.569722   80.982778  228.295556  421.023333   \n",
       "          13             11.817222  115.063611  242.083333  382.990278   \n",
       "...                            ...         ...         ...         ...   \n",
       "Zandvoort 5              61.650833  320.771111  502.306944  854.261944   \n",
       "          6              63.724167  296.773056  495.640278  785.143194   \n",
       "          7              30.443611  258.145741  428.575278  639.541944   \n",
       "          8              12.025278  193.479815  307.620000  503.178889   \n",
       "          9              20.469722  154.131389  259.019722  545.435833   \n",
       "\n",
       "                                      \n",
       "                                 max  \n",
       "Circuit   Corner Number               \n",
       "Austin    1              4119.337222  \n",
       "          10             3929.055556  \n",
       "          11             3901.485833  \n",
       "          12             3816.394167  \n",
       "          13             3981.005833  \n",
       "...                              ...  \n",
       "Zandvoort 5              3885.872500  \n",
       "          6              3818.251389  \n",
       "          7              3803.940278  \n",
       "          8              3855.840278  \n",
       "          9              3929.110556  \n",
       "\n",
       "[403 rows x 72 columns]"
      ]
     },
     "execution_count": 8,
     "metadata": {},
     "output_type": "execute_result"
    }
   ],
   "source": [
    "total_cornerdata.groupby([\"Circuit\",\"Corner Number\"]).describe()"
   ]
  },
  {
   "cell_type": "code",
   "execution_count": 9,
   "id": "21d17ff9",
   "metadata": {},
   "outputs": [
    {
     "data": {
      "text/html": [
       "<div>\n",
       "<style scoped>\n",
       "    .dataframe tbody tr th:only-of-type {\n",
       "        vertical-align: middle;\n",
       "    }\n",
       "\n",
       "    .dataframe tbody tr th {\n",
       "        vertical-align: top;\n",
       "    }\n",
       "\n",
       "    .dataframe thead th {\n",
       "        text-align: right;\n",
       "    }\n",
       "</style>\n",
       "<table border=\"1\" class=\"dataframe\">\n",
       "  <thead>\n",
       "    <tr style=\"text-align: right;\">\n",
       "      <th></th>\n",
       "      <th>Speed</th>\n",
       "      <th>Gear</th>\n",
       "      <th>RPM</th>\n",
       "      <th>Throttle %</th>\n",
       "      <th>DRS</th>\n",
       "      <th>Stint</th>\n",
       "      <th>Top Speed</th>\n",
       "      <th>Tyre Life</th>\n",
       "      <th>Distance to Driver Ahead</th>\n",
       "    </tr>\n",
       "  </thead>\n",
       "  <tbody>\n",
       "    <tr>\n",
       "      <th>count</th>\n",
       "      <td>58458.000000</td>\n",
       "      <td>58458.000000</td>\n",
       "      <td>58458.000000</td>\n",
       "      <td>58458.000000</td>\n",
       "      <td>58458.000000</td>\n",
       "      <td>58458.000000</td>\n",
       "      <td>57285.000000</td>\n",
       "      <td>58458.000000</td>\n",
       "      <td>54721.000000</td>\n",
       "    </tr>\n",
       "    <tr>\n",
       "      <th>mean</th>\n",
       "      <td>182.036522</td>\n",
       "      <td>4.728112</td>\n",
       "      <td>9574.150125</td>\n",
       "      <td>50.604143</td>\n",
       "      <td>6.154846</td>\n",
       "      <td>3.002600</td>\n",
       "      <td>311.405481</td>\n",
       "      <td>6.812190</td>\n",
       "      <td>637.436069</td>\n",
       "    </tr>\n",
       "    <tr>\n",
       "      <th>std</th>\n",
       "      <td>70.945872</td>\n",
       "      <td>1.759729</td>\n",
       "      <td>1737.549354</td>\n",
       "      <td>41.653797</td>\n",
       "      <td>3.631391</td>\n",
       "      <td>1.383356</td>\n",
       "      <td>18.939609</td>\n",
       "      <td>8.863345</td>\n",
       "      <td>775.929689</td>\n",
       "    </tr>\n",
       "    <tr>\n",
       "      <th>min</th>\n",
       "      <td>0.000000</td>\n",
       "      <td>0.000000</td>\n",
       "      <td>0.000000</td>\n",
       "      <td>0.000000</td>\n",
       "      <td>0.000000</td>\n",
       "      <td>1.000000</td>\n",
       "      <td>130.000000</td>\n",
       "      <td>2.000000</td>\n",
       "      <td>0.040833</td>\n",
       "    </tr>\n",
       "    <tr>\n",
       "      <th>25%</th>\n",
       "      <td>119.000000</td>\n",
       "      <td>3.000000</td>\n",
       "      <td>8282.000000</td>\n",
       "      <td>2.000000</td>\n",
       "      <td>1.000000</td>\n",
       "      <td>2.000000</td>\n",
       "      <td>300.000000</td>\n",
       "      <td>2.000000</td>\n",
       "      <td>160.866667</td>\n",
       "    </tr>\n",
       "    <tr>\n",
       "      <th>50%</th>\n",
       "      <td>177.000000</td>\n",
       "      <td>5.000000</td>\n",
       "      <td>10108.000000</td>\n",
       "      <td>50.000000</td>\n",
       "      <td>8.000000</td>\n",
       "      <td>3.000000</td>\n",
       "      <td>315.000000</td>\n",
       "      <td>4.000000</td>\n",
       "      <td>384.983333</td>\n",
       "    </tr>\n",
       "    <tr>\n",
       "      <th>75%</th>\n",
       "      <td>243.000000</td>\n",
       "      <td>6.000000</td>\n",
       "      <td>10976.000000</td>\n",
       "      <td>99.000000</td>\n",
       "      <td>8.000000</td>\n",
       "      <td>4.000000</td>\n",
       "      <td>324.000000</td>\n",
       "      <td>7.000000</td>\n",
       "      <td>783.239722</td>\n",
       "    </tr>\n",
       "    <tr>\n",
       "      <th>max</th>\n",
       "      <td>335.000000</td>\n",
       "      <td>8.000000</td>\n",
       "      <td>13138.000000</td>\n",
       "      <td>104.000000</td>\n",
       "      <td>14.000000</td>\n",
       "      <td>9.000000</td>\n",
       "      <td>352.000000</td>\n",
       "      <td>77.000000</td>\n",
       "      <td>6245.800000</td>\n",
       "    </tr>\n",
       "  </tbody>\n",
       "</table>\n",
       "</div>"
      ],
      "text/plain": [
       "              Speed          Gear           RPM    Throttle %           DRS  \\\n",
       "count  58458.000000  58458.000000  58458.000000  58458.000000  58458.000000   \n",
       "mean     182.036522      4.728112   9574.150125     50.604143      6.154846   \n",
       "std       70.945872      1.759729   1737.549354     41.653797      3.631391   \n",
       "min        0.000000      0.000000      0.000000      0.000000      0.000000   \n",
       "25%      119.000000      3.000000   8282.000000      2.000000      1.000000   \n",
       "50%      177.000000      5.000000  10108.000000     50.000000      8.000000   \n",
       "75%      243.000000      6.000000  10976.000000     99.000000      8.000000   \n",
       "max      335.000000      8.000000  13138.000000    104.000000     14.000000   \n",
       "\n",
       "              Stint     Top Speed     Tyre Life  Distance to Driver Ahead  \n",
       "count  58458.000000  57285.000000  58458.000000              54721.000000  \n",
       "mean       3.002600    311.405481      6.812190                637.436069  \n",
       "std        1.383356     18.939609      8.863345                775.929689  \n",
       "min        1.000000    130.000000      2.000000                  0.040833  \n",
       "25%        2.000000    300.000000      2.000000                160.866667  \n",
       "50%        3.000000    315.000000      4.000000                384.983333  \n",
       "75%        4.000000    324.000000      7.000000                783.239722  \n",
       "max        9.000000    352.000000     77.000000               6245.800000  "
      ]
     },
     "execution_count": 9,
     "metadata": {},
     "output_type": "execute_result"
    }
   ],
   "source": [
    "total_cornerdata.describe()"
   ]
  },
  {
   "cell_type": "code",
   "execution_count": 7,
   "id": "e0779810",
   "metadata": {},
   "outputs": [],
   "source": [
    "total_cornerdata.to_csv(\"Corner Data.csv\")"
   ]
  }
 ],
 "metadata": {
  "kernelspec": {
   "display_name": "Python 3 (ipykernel)",
   "language": "python",
   "name": "python3"
  },
  "language_info": {
   "codemirror_mode": {
    "name": "ipython",
    "version": 3
   },
   "file_extension": ".py",
   "mimetype": "text/x-python",
   "name": "python",
   "nbconvert_exporter": "python",
   "pygments_lexer": "ipython3",
   "version": "3.11.5"
  }
 },
 "nbformat": 4,
 "nbformat_minor": 5
}
